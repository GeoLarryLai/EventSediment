{
 "cells": [
  {
   "cell_type": "markdown",
   "metadata": {},
   "source": [
    "## **Event Sediment Team ESPIn 2024 project**"
   ]
  },
  {
   "cell_type": "markdown",
   "metadata": {},
   "source": [
    "### 1. import packages"
   ]
  },
  {
   "cell_type": "markdown",
   "metadata": {},
   "source": [
    "### 2. Setup parameters & boundary conditions"
   ]
  },
  {
   "cell_type": "markdown",
   "metadata": {},
   "source": [
    "### 3. Model the initial fake landscape using SPACE and HyLand [Larry]\n",
    "\n",
    "Products:\n",
    "a. initial fake landscape elevation raster. (high-res & low-res)\n",
    "b. initial soil depth raster"
   ]
  },
  {
   "cell_type": "markdown",
   "metadata": {},
   "source": [
    "### 4. Running GravelBedrockErodor on the fake landscape. [John]\n",
    "\n",
    "products:\n",
    "a. abraded elevation raster\n",
    "b. abraded soil depth raster"
   ]
  },
  {
   "cell_type": "markdown",
   "metadata": {},
   "source": [
    "### 5. Extract/Plot channel network & sediment flux at critical nodes [Yuan]\n",
    "\n",
    "products: figures, the network?, critical nodes"
   ]
  },
  {
   "cell_type": "markdown",
   "metadata": {},
   "source": [
    "### 6. Extract/Plot channel long-profile info [Nilay]\n",
    "\n",
    "products: figures (elevation bedrock profile, soil depth, fraction of bedrock exposure), chi, ksn...)"
   ]
  },
  {
   "cell_type": "markdown",
   "metadata": {},
   "source": [
    "### Generate serious of plots for time-series analysis"
   ]
  }
 ],
 "metadata": {
  "kernelspec": {
   "display_name": "base",
   "language": "python",
   "name": "python3"
  },
  "language_info": {
   "name": "python",
   "version": "3.10.14"
  }
 },
 "nbformat": 4,
 "nbformat_minor": 2
}
