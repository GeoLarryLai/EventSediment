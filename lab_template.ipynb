{
 "cells": [
  {
   "cell_type": "markdown",
   "id": "ecccd749",
   "metadata": {
    "slideshow": {
     "slide_type": "subslide"
    }
   },
   "source": [
    "# *The influence of landslides on gravel-bed river network evolution*\n",
    "### by Larry, Yuan, John and Nilay "
   ]
  },
  {
   "cell_type": "markdown",
   "id": "3f952851",
   "metadata": {
    "slideshow": {
     "slide_type": "-"
    }
   },
   "source": [
    "___\n",
    "___"
   ]
  },
  {
   "cell_type": "markdown",
   "id": "25a0147a",
   "metadata": {
    "slideshow": {
     "slide_type": "subslide"
    }
   },
   "source": [
    "## Introduction\n",
    "\n",
    "Landslides are the main sources of sediments to the river network in mountainous regions.\n",
    "\n",
    "MORE HERE\n",
    "\n",
    "In this lab, we will explore the response of river network to a sudden sediment supply increase through interactions between the landslide sediment delivery and fluvial transport.\n",
    "\n",
    "\n",
    "## Model information\n",
    "\n",
    "\n",
    "### SPACE (Stream Power with Alluvium Conservation and Entrainment): \n",
    "\n",
    "The **SPACE** component is a model that simulates...\n",
    "\n",
    "For details about the **SPACE** component in Landlab:  \n",
    "\n",
    "https://landlab.readthedocs.io/en/master/reference/components/space.html \n",
    "\n",
    "Reference:\n",
    "\n",
    "Shobe, C. M., Tucker, G. E., and Barnhart, K. R.: The SPACE 1.0 model: a Landlab component for 2-D calculation of sediment transport, bedrock erosion, and landscape evolution, Geosci. Model Dev., 10, 4577-4604, https://doi.org/10.5194/gmd-10-4577-2017, 2017. \n",
    "\n",
    "### HyLands:\n",
    "\n",
    "The **Hyland** component is ...\n",
    "\n",
    "Reference:\n",
    "\n",
    "Campforts, B., Shobe, C. M., Steer, P., Vanmaercke, M., Lague, D., and Braun, J.: HyLands 1.0: a hybrid landscape evolution model to simulate the impact of landslides and landslide-derived sediment on landscape evolution, Geosci. Model Dev., 13, 3863–3886, https://doi.org/10.5194/gmd-13-3863-2020, 2020.\n",
    "\n",
    "### Landlab components:\n",
    "\n",
    "In this lab, we will also utilize the **GravelBedrockEroder**, **BedrockLandslider**, **FlowAccumulator** and **DepressionFinderAndRouter** components. \n",
    "\n",
    "**GravelBedrockEroder** is ...\n",
    "**FlowAccumulator** calculates ...\n",
    "\n",
    "\n",
    "More info can be found here:  \n",
    "\n",
    "https://landlab.readthedocs.io/en/master/reference/components/flow_accum.html \n",
    "\n",
    "https://landlab.readthedocs.io/en/master/reference/components/flow_routing.html \n",
    "\n",
    "\n",
    "\n",
    "#### Description of River Longitudinal Profiles\n",
    "The impact of fires\n",
    "\n",
    "### Other things to mention:\n",
    "\n",
    "More here.. maybe"
   ]
  },
  {
   "cell_type": "markdown",
   "id": "70736ff6",
   "metadata": {},
   "source": [
    "___\n",
    "___"
   ]
  },
  {
   "cell_type": "markdown",
   "id": "9c0d61a3",
   "metadata": {},
   "source": [
    "### Importing necessary libraries and components:"
   ]
  },
  {
   "cell_type": "code",
   "execution_count": 5,
   "id": "f915d4e2",
   "metadata": {
    "tags": []
   },
   "outputs": [],
   "source": [
    "# CODE HERE"
   ]
  },
  {
   "cell_type": "markdown",
   "id": "92bf9a3b-8369-42c0-b878-8abbe1c30524",
   "metadata": {},
   "source": [
    "### Creating a synthetic landscape:\n",
    "\n",
    "Here, we will define the model domain and set the parameters to create a synthetic landscape using **SPACE**, **PriorityFloodFlowRouter** and **BedrockLandslider**..."
   ]
  },
  {
   "cell_type": "markdown",
   "id": "90be87c1",
   "metadata": {},
   "source": [
    "### Instantiating the model grid:\n",
    "\n",
    "Here, we instantiate the model grid, and set the boundary conditions.\n",
    "\n",
    "The bottom left corner is the watershed outlet, which is set as an open boundary condition to allow flux out. \n",
    "All other boundary nodes are closed. \n",
    "\n",
    "Creating fields.\n",
    "\n",
    "More here.."
   ]
  },
  {
   "cell_type": "code",
   "execution_count": 4,
   "id": "e775c9b1-6ac1-40f6-b862-223d5aef7362",
   "metadata": {},
   "outputs": [],
   "source": [
    "# CODE HERE"
   ]
  },
  {
   "cell_type": "code",
   "execution_count": 3,
   "id": "e6a5abf9",
   "metadata": {
    "tags": []
   },
   "outputs": [],
   "source": [
    "# CODE HERE"
   ]
  },
  {
   "cell_type": "markdown",
   "id": "d8455013",
   "metadata": {},
   "source": [
    "### Instantiating model components for the initial landscape:\n",
    "\n",
    "Here we instantiate the **PriorityFloodFlowRouter** and **BedrockLandslider**.."
   ]
  },
  {
   "cell_type": "code",
   "execution_count": 2,
   "id": "b94dec67",
   "metadata": {
    "tags": []
   },
   "outputs": [],
   "source": [
    "# CODE HERE"
   ]
  },
  {
   "cell_type": "markdown",
   "id": "b2ff7d95-4536-4533-80a6-e82f607a5238",
   "metadata": {},
   "source": [
    "### Instantiating model components for the initial landscape:\n",
    "\n",
    "Here we instantiate the **FlowAccumulator** and **OtherComponents**. "
   ]
  },
  {
   "cell_type": "code",
   "execution_count": 1,
   "id": "c5167d24-db12-46cc-bf18-a5fc281eae58",
   "metadata": {
    "tags": []
   },
   "outputs": [],
   "source": [
    "# CODE HERE"
   ]
  },
  {
   "cell_type": "markdown",
   "id": "3c821ece",
   "metadata": {},
   "source": [
    "### Imprinting the initial landscape and the drainage network:\n",
    "\n",
    "We use/iterate the **SPACE** through a time loop to evolve the landscape to a steady state before adding landslide component.\n",
    "\n",
    "?Check this statement"
   ]
  },
  {
   "cell_type": "code",
   "execution_count": 4,
   "id": "162479aa",
   "metadata": {
    "tags": []
   },
   "outputs": [],
   "source": [
    "# CODE HERE"
   ]
  },
  {
   "cell_type": "markdown",
   "id": "be679bb0",
   "metadata": {},
   "source": [
    "### Plotting river long-profiles and the drainage network:\n",
    "\n",
    "At steady state, river network profiles.."
   ]
  },
  {
   "cell_type": "code",
   "execution_count": 5,
   "id": "f4c312a5",
   "metadata": {
    "tags": []
   },
   "outputs": [],
   "source": [
    "# CODE HERE"
   ]
  },
  {
   "cell_type": "markdown",
   "id": "012a2e7a",
   "metadata": {},
   "source": [
    "### Running the landscape evolution model:\n",
    "\n",
    "Now we iterate the model through a time loop. \n"
   ]
  },
  {
   "cell_type": "code",
   "execution_count": 6,
   "id": "4b374d3d",
   "metadata": {
    "tags": []
   },
   "outputs": [],
   "source": [
    "# CODE HERE"
   ]
  },
  {
   "cell_type": "markdown",
   "id": "666a30e3",
   "metadata": {},
   "source": [
    "### Sediment flux at the basin outlet after the landslide:\n",
    "\n",
    "Here, we will visualize the sediment flux at the basin outlet and compare that to pre-landslide condition."
   ]
  },
  {
   "cell_type": "code",
   "execution_count": 7,
   "id": "27dfca29",
   "metadata": {
    "tags": []
   },
   "outputs": [],
   "source": [
    "# CODE"
   ]
  },
  {
   "cell_type": "markdown",
   "id": "73fd8e3b",
   "metadata": {},
   "source": [
    "### Evolution of river long-profiles and sediment thickness:\n",
    "\n",
    "Here, we will we plot"
   ]
  },
  {
   "cell_type": "markdown",
   "id": "422dd65c",
   "metadata": {},
   "source": [
    "# Summary\n",
    "\n",
    "### This notebook evaluates the impact of sediment pulses on gravel-bed river network evolution.\n",
    "\n",
    "ESPIn 2024\n",
    "More here..."
   ]
  }
 ],
 "metadata": {
  "kernelspec": {
   "display_name": "Python 3 (ipykernel)",
   "language": "python",
   "name": "python3"
  },
  "language_info": {
   "codemirror_mode": {
    "name": "ipython",
    "version": 3
   },
   "file_extension": ".py",
   "mimetype": "text/x-python",
   "name": "python",
   "nbconvert_exporter": "python",
   "pygments_lexer": "ipython3",
   "version": "3.11.0"
  }
 },
 "nbformat": 4,
 "nbformat_minor": 5
}
