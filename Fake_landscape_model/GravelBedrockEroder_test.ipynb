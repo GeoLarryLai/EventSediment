{
 "cells": [
  {
   "cell_type": "code",
   "execution_count": null,
   "metadata": {},
   "outputs": [],
   "source": [
    "import copy\n",
    "\n",
    "import matplotlib as mpl\n",
    "import matplotlib.pyplot as plt  # For plotting results; optional\n",
    "import numpy as np\n",
    "from landlab import RasterModelGrid, imshow_grid, imshowhs_grid, \n",
    "from landlab.components import FlowAccumulator, GravelBedrockEroder\n",
    "from landlab.io.esri_ascii import write_esri_ascii\n",
    "\n",
    "import pickle"
   ]
  },
  {
   "cell_type": "code",
   "execution_count": null,
   "metadata": {},
   "outputs": [],
   "source": [
    "with open('post-slide_fakelandscape.pickle', 'rb') as g:\n",
    "    mg = pickle.load(g)"
   ]
  },
  {
   "cell_type": "code",
   "execution_count": null,
   "metadata": {},
   "outputs": [],
   "source": [
    "# Open all model boundary edges\n",
    "# mg.set_closed_boundaries_at_grid_edges(\n",
    "#     bottom_is_closed=True,\n",
    "#     left_is_closed=True,\n",
    "#     right_is_closed=True,\n",
    "#     top_is_closed=True,\n",
    "# )\n",
    "# mg.status_at_node[5] = 1 \n",
    "\n",
    "elev = mg.at_node[\"topographic__elevation\"]\n",
    "\n",
    "fa = FlowAccumulator(mg, runoff_rate=10.0)\n",
    "fa.run_one_step()\n",
    "eroder = GravelBedrockEroder(mg, abrasion_coefficient=0.0005)\n",
    "rock_elev = mg.at_node[\"bedrock__elevation\"]\n",
    "\n",
    "for _ in range(200):\n",
    "    rock_elev[mg.core_nodes] += 1.0\n",
    "    elev[mg.core_nodes] += 1.0\n",
    "    fa.run_one_step()\n",
    "    eroder.run_one_step(10.0)\n",
    "\n",
    "int(elev[4] * 100)"
   ]
  },
  {
   "cell_type": "code",
   "execution_count": null,
   "metadata": {},
   "outputs": [],
   "source": [
    "mg.fields()"
   ]
  },
  {
   "cell_type": "code",
   "execution_count": null,
   "metadata": {},
   "outputs": [],
   "source": [
    "imshowhs_grid(mg, mg.at_node[\"topographic__steepest_slope\"], cmap=\"terrain\")"
   ]
  },
  {
   "cell_type": "code",
   "execution_count": null,
   "metadata": {},
   "outputs": [],
   "source": [
    "imshow_grid(mg, elev, cmap=\"terrain\")"
   ]
  }
 ],
 "metadata": {
  "kernelspec": {
   "display_name": "base",
   "language": "python",
   "name": "python3"
  },
  "language_info": {
   "codemirror_mode": {
    "name": "ipython",
    "version": 3
   },
   "file_extension": ".py",
   "mimetype": "text/x-python",
   "name": "python",
   "nbconvert_exporter": "python",
   "pygments_lexer": "ipython3",
   "version": "3.10.14"
  }
 },
 "nbformat": 4,
 "nbformat_minor": 2
}
