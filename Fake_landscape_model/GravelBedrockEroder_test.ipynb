{
 "cells": [
  {
   "cell_type": "code",
   "execution_count": null,
   "metadata": {},
   "outputs": [],
   "source": [
    "from landlab import RasterModelGrid, imshow_grid\n",
    "from landlab.components import FlowAccumulator, GravelBedrockEroder\n",
    "import numpy as np\n",
    "\n",
    "\n",
    "grid = RasterModelGrid((100, 100), xy_spacing=25.0)\n",
    "elev = grid.add_zeros(\"topographic__elevation\", at=\"node\")\n",
    "# set constant random seed for consistent topographic roughness\n",
    "np.random.seed(seed=5000)\n",
    "# add topographic roughness\n",
    "random_noise = (\n",
    "    np.random.rand(len(grid.node_y)) / 1000.0\n",
    ")  # impose topography values on model grid\n",
    "grid[\"node\"][\"topographic__elevation\"] += random_noise\n",
    "\n",
    "sed = grid.add_zeros(\"soil__depth\", at=\"node\")\n",
    "sed[4] = 300.0\n",
    "grid.status_at_node[grid.perimeter_nodes] = grid.BC_NODE_IS_CLOSED\n",
    "grid.status_at_node[5] = grid.BC_NODE_IS_FIXED_VALUE\n",
    "fa = FlowAccumulator(grid, runoff_rate=10.0)\n",
    "fa.run_one_step()\n",
    "eroder = GravelBedrockEroder(grid, abrasion_coefficient=0.0005)\n",
    "rock_elev = grid.at_node[\"bedrock__elevation\"]\n",
    "\n",
    "\n",
    "for _ in range(2000):\n",
    "    rock_elev[grid.core_nodes] += 1.0\n",
    "    elev[grid.core_nodes] += 1.0\n",
    "    fa.run_one_step()\n",
    "    eroder.run_one_step(100000.0)\n",
    "\n",
    "int(elev[4] * 100)\n"
   ]
  },
  {
   "cell_type": "code",
   "execution_count": null,
   "metadata": {},
   "outputs": [],
   "source": [
    "imshow_grid(grid, elev, cmap=\"terrain\")"
   ]
  }
 ],
 "metadata": {
  "kernelspec": {
   "display_name": "base",
   "language": "python",
   "name": "python3"
  },
  "language_info": {
   "codemirror_mode": {
    "name": "ipython",
    "version": 3
   },
   "file_extension": ".py",
   "mimetype": "text/x-python",
   "name": "python",
   "nbconvert_exporter": "python",
   "pygments_lexer": "ipython3",
   "version": "3.10.14"
  }
 },
 "nbformat": 4,
 "nbformat_minor": 2
}
