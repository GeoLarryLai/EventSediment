{
 "cells": [
  {
   "cell_type": "markdown",
   "metadata": {},
   "source": [
    "# Make a fake stead-state landscape using SPACE + Run Hyland for creating landslides.\n",
    "\n",
    "* Campforts, B., Shobe, C. M., Overeem, I., & Tucker, G. E. (2022). The Art of Landslides: How Stochastic Mass Wasting Shapes Topography and Influences Landscape Dynamics. Journal of Geophysical Research: Earth Surface, 127(8), 1–16. [doi: 10.1029/2022JF006745](https://doi.org/10.1029/2022JF006745)\n",
    "* Campforts B., Shobe C.M., Steer P., Vanmaercke M., Lague D., Braun J. (2020) HyLands 1.0: a hybrid landscape evolution model to simulate the impact of landslides and landslide-derived sediment on landscape evolution. Geosci Model Dev: 13(9):3863–86, [doi: 10.5194/gmd-13-3863-2020](https://doi.org/10.5194/gmd-13-3863-2020)."
   ]
  },
  {
   "cell_type": "markdown",
   "metadata": {
    "tags": []
   },
   "source": [
    "### Step 1: Import the necessary libraries \n",
    "\n",
    "The BedrockLandslider and SPACE components are required, as are the model grid component and a flow routing component. We will use the `PriorityFloodFlowRouter` that takes care of routing flow across flats or pits in a digital elevation model."
   ]
  },
  {
   "cell_type": "code",
   "execution_count": 11,
   "metadata": {
    "collapsed": false,
    "jupyter": {
     "outputs_hidden": false
    }
   },
   "outputs": [],
   "source": [
    "import copy\n",
    "\n",
    "import matplotlib as mpl\n",
    "import matplotlib.pyplot as plt  # For plotting results; optional\n",
    "import numpy as np\n",
    "\n",
    "from landlab import RasterModelGrid  # Grid utility\n",
    "from landlab import imshow_grid, imshowhs_grid  # For plotting results; optional\n",
    "from landlab.components import BedrockLandslider  # BedrockLandslider model\n",
    "from landlab.components import SpaceLargeScaleEroder  # SPACE model\n",
    "from landlab.components import PriorityFloodFlowRouter\n",
    "from landlab.io.esri_ascii import write_esri_ascii"
   ]
  },
  {
   "cell_type": "markdown",
   "metadata": {},
   "source": [
    "### Step 2: Define the model domain and initial conditions"
   ]
  },
  {
   "cell_type": "code",
   "execution_count": 12,
   "metadata": {
    "collapsed": false,
    "jupyter": {
     "outputs_hidden": false
    }
   },
   "outputs": [],
   "source": [
    "# Set grid parameters\n",
    "num_rows = 30\n",
    "num_columns = 30\n",
    "node_spacing = 25.0\n",
    "\n",
    "# Create initial model topography:\n",
    "\n",
    "# Instantiate model grid\n",
    "mg = RasterModelGrid((num_rows, num_columns), node_spacing) \n",
    "mg.add_zeros(\"node\", \"topographic__elevation\") # add field ’topographic elevation’ to the grid\n",
    "# add topographic roughness\n",
    "random_noise = (np.random.rand(len(mg.node_y)) / 1000.0)  # impose topography values on model grid\n",
    "mg[\"node\"][\"topographic__elevation\"] += random_noise\n",
    "\n",
    "mg.add_zeros(\"node\", \"soil__depth\") # Create a field 'soil__depth' to the grid\n",
    "mg.at_node[\"soil__depth\"][mg.core_nodes] = 1.0  #Set s m of initial soil depth at core nodes\n",
    "\n",
    "# Add field 'bedrock__elevation' to the grid\n",
    "mg.add_zeros(\"bedrock__elevation\", at=\"node\")\n",
    "\n",
    "# Yield 'topographic elevation' by summing 'soil__depth' and 'bedrock__elevation'\n",
    "mg.at_node[\"bedrock__elevation\"][:] = mg.at_node[\"topographic__elevation\"]\n",
    "mg.at_node[\"topographic__elevation\"][:] += mg.at_node[\"soil__depth\"]"
   ]
  },
  {
   "cell_type": "markdown",
   "metadata": {},
   "source": [
    "### Step 3: Set the boundary conditions\n",
    "\n",
    "The user must determine the boundary conditions of the model domain (i.e., determine across which boundaries water and sediment may flow). Boundary conditions are controlled by setting the status of individual nodes or grid edges (see Hobley et al., 2017). Here, we keep all boundaries open so that water and sediment can leave the domain at all times over all edges. "
   ]
  },
  {
   "cell_type": "code",
   "execution_count": 13,
   "metadata": {
    "tags": []
   },
   "outputs": [],
   "source": [
    "# Open all model boundary edges\n",
    "mg.set_closed_boundaries_at_grid_edges(\n",
    "    bottom_is_closed=True,\n",
    "    left_is_closed=True,\n",
    "    right_is_closed=True,\n",
    "    top_is_closed=True,\n",
    ")\n",
    "mg.status_at_node[5] = 1 "
   ]
  },
  {
   "cell_type": "markdown",
   "metadata": {},
   "source": [
    "### Step 4: Initialize the flow director and SPACE \n",
    "\n",
    "Like most Landlab components, PriorityFloodFlowRouter, SPACE and BedrockLandslider are written as a Python classes. The class was imported at the beginning of the driver script (step 1). In this step, the user declares the instance of the PriorityFloodFlowRouter and SPACE classes and sets any relevant model parameters. At this point we do not yet make an instance of the BedrockLandslider component. "
   ]
  },
  {
   "cell_type": "code",
   "execution_count": 14,
   "metadata": {
    "tags": []
   },
   "outputs": [],
   "source": [
    "# Instantiate flow router\n",
    "fr = PriorityFloodFlowRouter(mg, flow_metric=\"D8\", suppress_out=True)\n",
    "\n",
    "# Instantiate SPACE model with chosen parameters\n",
    "sp = SpaceLargeScaleEroder(\n",
    "    mg,\n",
    "    K_sed=2.5e-5,\n",
    "    K_br=2.5e-5,\n",
    "    F_f=0.0,\n",
    "    phi=0.0,\n",
    "    H_star=1.0,\n",
    "    v_s=1,\n",
    "    m_sp=0.5,\n",
    "    n_sp=1.0,\n",
    "    sp_crit_sed=0,\n",
    "    sp_crit_br=0,\n",
    ")"
   ]
  },
  {
   "cell_type": "markdown",
   "metadata": {},
   "source": [
    "### Step 5: Run the time loop to develop a landscape without landslide activity\n",
    "\n",
    "The SPACE component calculates sediment entrainment and deposition, bedrock erosion, and changes in land surface elevation over time. The code shown below is an example of how to run the SPACE model over several model timesteps. In the example below, SPACE is run in a loop that executes until elapsed model time has reached a user-defined run time. The user is also responsible for choosing the model timestep. Within the loop, the following steps occur:\n",
    "\n",
    "1. The flow router runs first to determine topographic slopes and water discharge at all nodes on the model domain.\n",
    "2. The depression finder and router runs to map any nodes located in local topographic minima (i.e., nodes that water cannot drain out of) and to establish flow paths across the surface of these “lakes.” Using the depression finder and router is optional. However, because the SPACE model may in certain situations create local minima, using the depression finder and router can prevent the development of fatal instabilities.\n",
    "3. The depression finder and router generates a list of flooded nodes, which is then saved as a variable called “flooded” and passed to the SPACE model.\n",
    "4. The SPACE model runs for the duration of a single timestep, computing sediment transport, bedrock erosion, and topographic surface evolution.\n",
    "5. The elapsed time is updated."
   ]
  },
  {
   "cell_type": "code",
   "execution_count": 15,
   "metadata": {
    "collapsed": false,
    "jupyter": {
     "outputs_hidden": false
    }
   },
   "outputs": [
    {
     "name": "stdout",
     "output_type": "stream",
     "text": [
      "0.20 of model run completed\n",
      "0.40 of model run completed\n",
      "0.60 of model run completed\n",
      "0.80 of model run completed\n",
      "1.00 of model run completed\n"
     ]
    }
   ],
   "source": [
    "# Set model timestep\n",
    "timestep = 5e2  # years\n",
    "\n",
    "# Set elapsed time to zero\n",
    "elapsed_time = 0.0  # years\n",
    "\n",
    "# Set timestep count to zero\n",
    "count = 0\n",
    "\n",
    "# Set model run time\n",
    "run_time = 5e5  # years\n",
    "\n",
    "# Array to save sediment flux values\n",
    "sed_flux = np.zeros(int(run_time // timestep))\n",
    "\n",
    "# Uplift rate in m/yr\n",
    "U = 1e-2\n",
    "\n",
    "cmap = copy.copy(mpl.colormaps[\"terrain\"])\n",
    "\n",
    "while elapsed_time < run_time:  # time units of years\n",
    "    # Insert uplift at core nodes\n",
    "    mg.at_node[\"bedrock__elevation\"][mg.core_nodes] += U * timestep\n",
    "    mg.at_node[\"topographic__elevation\"][:] = (\n",
    "        mg.at_node[\"bedrock__elevation\"] + mg.at_node[\"soil__depth\"]\n",
    "    )\n",
    "\n",
    "    # Run the flow router\n",
    "    fr.run_one_step()\n",
    "\n",
    "    # Run SPACE for one time step\n",
    "    sp.run_one_step(dt=timestep)\n",
    "\n",
    "    # Add to value of elapsed time\n",
    "    elapsed_time += timestep\n",
    "\n",
    "    if np.mod(elapsed_time, 1e5) == 0:\n",
    "        print(\"%.2f of model run completed\" % (elapsed_time / run_time))"
   ]
  },
  {
   "cell_type": "markdown",
   "metadata": {},
   "source": []
  },
  {
   "cell_type": "markdown",
   "metadata": {},
   "source": [
    "#### **Using `pickle` to export & import the landlab grid object **"
   ]
  },
  {
   "cell_type": "code",
   "execution_count": 16,
   "metadata": {},
   "outputs": [
    {
     "data": {
      "text/plain": [
       "{'at_node:bedrock__elevation',\n",
       " 'at_node:depression_free_elevation',\n",
       " 'at_node:drainage_area',\n",
       " 'at_node:flood_status_code',\n",
       " 'at_node:flow__link_to_receiver_node',\n",
       " 'at_node:flow__receiver_node',\n",
       " 'at_node:flow__receiver_proportions',\n",
       " 'at_node:flow__upstream_node_order',\n",
       " 'at_node:sediment__flux',\n",
       " 'at_node:sediment__influx',\n",
       " 'at_node:sediment__outflux',\n",
       " 'at_node:soil__depth',\n",
       " 'at_node:squared_length_adjacent',\n",
       " 'at_node:surface_water__discharge',\n",
       " 'at_node:topographic__elevation',\n",
       " 'at_node:topographic__steepest_slope',\n",
       " 'at_node:water__unit_flux_in'}"
      ]
     },
     "execution_count": 16,
     "metadata": {},
     "output_type": "execute_result"
    }
   ],
   "source": [
    "#See available fields in the landlab grid object\n",
    "mg.fields()"
   ]
  },
  {
   "cell_type": "code",
   "execution_count": 17,
   "metadata": {},
   "outputs": [],
   "source": [
    "import pickle\n",
    "\n",
    "# Exporting landlab grid object\n",
    "with open('pre-slide_fakelandscape.pickle', 'wb') as f:\n",
    "    pickle.dump(mg, f)"
   ]
  },
  {
   "cell_type": "code",
   "execution_count": 18,
   "metadata": {},
   "outputs": [
    {
     "data": {
      "text/plain": [
       "{'at_node:bedrock__elevation',\n",
       " 'at_node:depression_free_elevation',\n",
       " 'at_node:drainage_area',\n",
       " 'at_node:flood_status_code',\n",
       " 'at_node:flow__link_to_receiver_node',\n",
       " 'at_node:flow__receiver_node',\n",
       " 'at_node:flow__receiver_proportions',\n",
       " 'at_node:flow__upstream_node_order',\n",
       " 'at_node:sediment__flux',\n",
       " 'at_node:sediment__influx',\n",
       " 'at_node:sediment__outflux',\n",
       " 'at_node:soil__depth',\n",
       " 'at_node:squared_length_adjacent',\n",
       " 'at_node:surface_water__discharge',\n",
       " 'at_node:topographic__elevation',\n",
       " 'at_node:topographic__steepest_slope',\n",
       " 'at_node:water__unit_flux_in'}"
      ]
     },
     "execution_count": 18,
     "metadata": {},
     "output_type": "execute_result"
    }
   ],
   "source": [
    "mg.fields()"
   ]
  },
  {
   "cell_type": "markdown",
   "metadata": {},
   "source": [
    "## Visualization of results"
   ]
  },
  {
   "cell_type": "markdown",
   "metadata": {
    "collapsed": false,
    "jupyter": {
     "outputs_hidden": false
    }
   },
   "source": [
    "### Step 6: Initialize the flow director and SPACE and BedrockLandslider components"
   ]
  },
  {
   "cell_type": "code",
   "execution_count": 19,
   "metadata": {},
   "outputs": [],
   "source": [
    "# Instantiate flow router, with additional multiple flow director for hillslopes\n",
    "fr = PriorityFloodFlowRouter(\n",
    "    mg,\n",
    "    flow_metric=\"D8\",\n",
    "    separate_hill_flow=True,\n",
    "    hill_flow_metric=\"Quinn\",\n",
    "    update_hill_flow_instantaneous=True,\n",
    ")\n",
    "\n",
    "# Instantiate SPACE model with chosen parameters\n",
    "hy = BedrockLandslider(\n",
    "    mg,\n",
    "    angle_int_frict=0.4,\n",
    "    cohesion_eff=1e3,\n",
    "    landslides_return_time=1000,\n",
    "    landslides_on_boundary_nodes=False,\n",
    ")\n"
   ]
  },
  {
   "cell_type": "markdown",
   "metadata": {},
   "source": [
    "### Step 7: Run the time loop over 200 years to develop a landscape with landslide activity\n",
    "\n",
    "Like before, uplift will be inserted, the flow routers will be updated and the SAPCELargeScaleEroder will be run, but this time, landslides will be actively simulated.  "
   ]
  },
  {
   "cell_type": "code",
   "execution_count": 20,
   "metadata": {},
   "outputs": [],
   "source": [
    "# Reset elevation back to elevation simulated without landslides to test various landslide configuration settings\n",
    "z_before_LS = np.array(mg[\"node\"][\"topographic__elevation\"])\n",
    "\n",
    "mg[\"node\"][\"topographic__elevation\"][:] = z_before_LS\n",
    "timestep = 2  # years\n",
    "landslides_size_all_steps = []\n",
    "\n",
    "for i in range(10):\n",
    "    # Insert uplift at core nodes\n",
    "    mg.at_node[\"bedrock__elevation\"][mg.core_nodes] += U * timestep\n",
    "    mg.at_node[\"topographic__elevation\"][:] = (\n",
    "        mg.at_node[\"bedrock__elevation\"] + mg.at_node[\"soil__depth\"]\n",
    "    )\n",
    "\n",
    "    # Run the flow router\n",
    "    fr.run_one_step()\n",
    "\n",
    "    # Run SPACE for one time step\n",
    "    sp.run_one_step(dt=timestep)\n",
    "\n",
    "    # Run BedrockLandslider for one time step\n",
    "    hy.run_one_step(dt=timestep)\n",
    "\n",
    "    # Store landslide sizes of current time step into general ls_size list\n",
    "    landslides_size_all_steps = np.append(landslides_size_all_steps, hy.landslides_size)\n",
    "    "
   ]
  },
  {
   "cell_type": "markdown",
   "metadata": {},
   "source": [
    "### Exporting post-slide landscpae"
   ]
  },
  {
   "cell_type": "code",
   "execution_count": 21,
   "metadata": {},
   "outputs": [],
   "source": [
    "# Exporting landlab grid object\n",
    "with open('post-slide_fakelandscape.pickle', 'wb') as f:\n",
    "    pickle.dump(mg, f)"
   ]
  },
  {
   "cell_type": "code",
   "execution_count": 22,
   "metadata": {},
   "outputs": [
    {
     "data": {
      "text/plain": [
       "{'at_node:LS_sediment__flux',\n",
       " 'at_node:bedrock__elevation',\n",
       " 'at_node:depression_free_elevation',\n",
       " 'at_node:drainage_area',\n",
       " 'at_node:flood_status_code',\n",
       " 'at_node:flow__link_to_receiver_node',\n",
       " 'at_node:flow__receiver_node',\n",
       " 'at_node:flow__receiver_proportions',\n",
       " 'at_node:flow__upstream_node_order',\n",
       " 'at_node:hill_flow__receiver_node',\n",
       " 'at_node:hill_flow__receiver_proportions',\n",
       " 'at_node:hill_flow__upstream_node_order',\n",
       " 'at_node:hill_topographic__steepest_slope',\n",
       " 'at_node:landslide__deposition',\n",
       " 'at_node:landslide__erosion',\n",
       " 'at_node:landslide_sediment_point_source',\n",
       " 'at_node:sediment__flux',\n",
       " 'at_node:sediment__influx',\n",
       " 'at_node:sediment__outflux',\n",
       " 'at_node:soil__depth',\n",
       " 'at_node:squared_length_adjacent',\n",
       " 'at_node:surface_water__discharge',\n",
       " 'at_node:topographic__elevation',\n",
       " 'at_node:topographic__steepest_slope',\n",
       " 'at_node:water__unit_flux_in'}"
      ]
     },
     "execution_count": 22,
     "metadata": {},
     "output_type": "execute_result"
    }
   ],
   "source": [
    "mg.fields()a"
   ]
  },
  {
   "cell_type": "markdown",
   "metadata": {},
   "source": [
    "### Click here for more <a href=\"https://landlab.readthedocs.io/en/latest/user_guide/tutorials.html\">Landlab tutorials</a>"
   ]
  }
 ],
 "metadata": {
  "execution": {
   "markers": "slow"
  },
  "kernelspec": {
   "display_name": "base",
   "language": "python",
   "name": "python3"
  },
  "language_info": {
   "codemirror_mode": {
    "name": "ipython",
    "version": 3
   },
   "file_extension": ".py",
   "mimetype": "text/x-python",
   "name": "python",
   "nbconvert_exporter": "python",
   "pygments_lexer": "ipython3",
   "version": "3.10.14"
  }
 },
 "nbformat": 4,
 "nbformat_minor": 4
}
