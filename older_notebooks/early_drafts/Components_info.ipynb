{
 "cells": [
  {
   "cell_type": "markdown",
   "id": "ebbf4b40-fbdd-42cc-bedc-41481608c119",
   "metadata": {},
   "source": [
    "### Info about GRAVEL BEDROCK ERODER\n",
    "\n",
    "We run `GravelBedrockEroder` to simulate the fluvial response to landslide-driven sediment pulse through a short period of time (20 years in this case).\n",
    "\n",
    "**GravelBedrockEroder** is a model for bedrock incision, bed-load transport, and downstream gravel abrasion in a river network with near-threshold channels.\n",
    "\n",
    "It helps us to model drainage network evolution for a network of rivers that have a layer of gravel alluvium overlying bedrock. \n",
    "\n",
    "Bedrock is eroded by a combination of abrasion and plucking. Abrasion per unit channel length is calculated as the product of volumetric sediment discharge and an abrasion coefficient. Sediment produced by abrasion is assumed to go into wash load that is removed from the model domain. Plucking is calculated using a discharge-slope expression, and a user-defined fraction of plucked material is added to the coarse alluvium.\n",
    "\n",
    "The rate of gravel transport out of a given node is calculated as the product of bankfull discharge, channel gradient (to the 7/6 power), a dimensionless transport coefficient, and an intermittency factor that represents the fraction of time that bankfull flow occurs (Wickert & Schildgen, 2019). It assumes that channels are gravel-bedded and that they instantaneously adjust their width such that bankfull bed shear stress is just slightly higher than the threshold for grain motion. \n",
    "\n",
    "`GravelBedrockEroder` operates together with a flow-routing component such as `FlowAccumulator`, so that each grid node has a defined flow direction toward one of its neighbor nodes. \n",
    "\n",
    "For more info, parameters, methods of `GravelBedrockEroder`, please visit:\n",
    "https://landlab.readthedocs.io/en/latest/reference/components/gravel_bedrock_eroder.html\n",
    "\n",
    "Methods we will utilize for this lab are:\n",
    "\n",
    "`calc_implied_width()` calculates and returns channel width implied by discharge, slope, and grain diameter.\n",
    "`calc_sediment_rate_of_change()`updates the rate of thickness change of coarse sediment at each core node."
   ]
  },
  {
   "cell_type": "markdown",
   "id": "140eb2a5-25c4-40b3-97c9-e3aa8302f7c8",
   "metadata": {},
   "source": [
    "### Info about CHANNEL PROFILER\n",
    "\n",
    "Flow and sediment transport are major controls on the source-to-sink balance of erosional and depositional processes along a river. External drivers of change such as climate, tectonics and some major human disturbances eventually cause variations in discharge and sediment flux and affect rivers' cross-sectional and planform geometry and longitudinal profiles. In order to decode those responses and to be able to predict the future change, we need morhodynamic models.\n",
    "\n",
    "Analysis of river longitudinal profiles provides a powerful tool to detect environmental changes and extend this change to long-term landscape evolution. \n",
    "\n",
    "In this lab, we investigate the change resulted by an increase in sediment flux to the river network. We will use `ChannelProfiler` to extract channel networks from our landlab grid and to expore the response of river network to the sediment flux change. We will further investigate sediment thickness and bedrock profile for the trunk channel of the network.\n",
    "\n",
    "`ChannelProfiler` components will help us to extract and plot the channel profiles in our drainage network.\n",
    "\n",
    "Parameters we will use here:\n",
    "\n",
    "**minimum_channel_threshold** is the value to use for the minimum drainage area associated with a plotted channel segment.\n",
    "\n",
    "**number_of_watersheds** is the total number of watersheds to plot.\n",
    "\n",
    "**main_channel_only** is the flag to determine if only the main channel should be plotted, or if all stream segments with drainage area less than threshold should be plotted.\n",
    "\n",
    "For more info, parameters, methods of `ChannelProfiler`, please visit:\n",
    "https://landlab.readthedocs.io/en/latest/reference/components/channel_profiler.html"
   ]
  }
 ],
 "metadata": {
  "kernelspec": {
   "display_name": "Python 3 (ipykernel)",
   "language": "python",
   "name": "python3"
  },
  "language_info": {
   "codemirror_mode": {
    "name": "ipython",
    "version": 3
   },
   "file_extension": ".py",
   "mimetype": "text/x-python",
   "name": "python",
   "nbconvert_exporter": "python",
   "pygments_lexer": "ipython3",
   "version": "3.10.10"
  }
 },
 "nbformat": 4,
 "nbformat_minor": 5
}
