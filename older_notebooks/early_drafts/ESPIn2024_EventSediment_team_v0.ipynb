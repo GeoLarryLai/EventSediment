{
 "cells": [
  {
   "cell_type": "markdown",
   "metadata": {},
   "source": [
    "## **Event Sediment Team ESPIn 2024 project**"
   ]
  },
  {
   "cell_type": "markdown",
   "metadata": {},
   "source": [
    "### 1. import packages"
   ]
  },
  {
   "cell_type": "code",
   "execution_count": null,
   "metadata": {},
   "outputs": [],
   "source": [
    "import copy\n",
    "import matplotlib as mpl\n",
    "import matplotlib.pyplot as plt  # For plotting results; optional\n",
    "import numpy as np\n",
    "\n",
    "from landlab import RasterModelGrid  # Grid utility\n",
    "from landlab import imshow_grid, imshowhs_grid  # For plotting results; optional\n",
    "from landlab.components import BedrockLandslider  # BedrockLandslider model\n",
    "from landlab.components import SpaceLargeScaleEroder  # SPACE model\n",
    "from landlab.components import PriorityFloodFlowRouter\n",
    "from landlab.components import FlowAccumulator, GravelBedrockEroder # GBE model\n",
    "\n",
    "import pickle # For saving and loading landlab grid object "
   ]
  },
  {
   "cell_type": "markdown",
   "metadata": {},
   "source": [
    "### 2. Setup parameters & boundary conditions"
   ]
  },
  {
   "cell_type": "markdown",
   "metadata": {},
   "source": [
    "### 3. Model the initial fake landscape using SPACE and HyLand [Larry]\n",
    "\n",
    "Products:\n",
    "a. initial fake landscape elevation raster. (high-res & low-res)\n",
    "b. initial soil depth raster"
   ]
  },
  {
   "cell_type": "code",
   "execution_count": null,
   "metadata": {},
   "outputs": [],
   "source": [
    "# Set grid parameters\n",
    "num_rows = 30\n",
    "num_columns = 30\n",
    "node_spacing = 25.0\n",
    "\n",
    "# Create initial model topography:\n",
    "\n",
    "# Instantiate model grid\n",
    "mg = RasterModelGrid((num_rows, num_columns), node_spacing) \n",
    "mg.add_zeros(\"node\", \"topographic__elevation\") # add field ’topographic elevation’ to the grid\n",
    "# add topographic roughness\n",
    "random_noise = (np.random.rand(len(mg.node_y)) / 1000.0)  # impose topography values on model grid\n",
    "mg[\"node\"][\"topographic__elevation\"] += random_noise\n",
    "\n",
    "mg.add_zeros(\"node\", \"soil__depth\") # Create a field 'soil__depth' to the grid\n",
    "mg.at_node[\"soil__depth\"][mg.core_nodes] = 1.0  #Set s m of initial soil depth at core nodes\n",
    "\n",
    "# Add field 'bedrock__elevation' to the grid\n",
    "mg.add_zeros(\"bedrock__elevation\", at=\"node\")\n",
    "\n",
    "# Yield 'topographic elevation' by summing 'soil__depth' and 'bedrock__elevation'\n",
    "mg.at_node[\"bedrock__elevation\"][:] = mg.at_node[\"topographic__elevation\"]\n",
    "mg.at_node[\"topographic__elevation\"][:] += mg.at_node[\"soil__depth\"]\n",
    "\n",
    "# Close all model boundary edges except the node #5, allowing only one outlet\n",
    "mg.set_closed_boundaries_at_grid_edges(\n",
    "    bottom_is_closed=True,\n",
    "    left_is_closed=True,\n",
    "    right_is_closed=True,\n",
    "    top_is_closed=True,\n",
    ")\n",
    "mg.status_at_node[5] = 1 "
   ]
  },
  {
   "cell_type": "code",
   "execution_count": null,
   "metadata": {},
   "outputs": [],
   "source": [
    "# Instantiate flow router\n",
    "fr = PriorityFloodFlowRouter(mg, flow_metric=\"D8\", suppress_out=True)\n",
    "\n",
    "# Instantiate SPACE model with chosen parameters\n",
    "sp = SpaceLargeScaleEroder(\n",
    "    mg,\n",
    "    K_sed=2.5e-5,\n",
    "    K_br=2.5e-5,\n",
    "    F_f=0.0,\n",
    "    phi=0.0,\n",
    "    H_star=1.0,\n",
    "    v_s=1,\n",
    "    m_sp=0.5,\n",
    "    n_sp=1.0,\n",
    "    sp_crit_sed=0,\n",
    "    sp_crit_br=0,\n",
    ")\n",
    "\n",
    "# Set model timestep\n",
    "timestep = 5e2  # years\n",
    "\n",
    "# Set elapsed time to zero\n",
    "elapsed_time = 0.0  # years\n",
    "\n",
    "# Set timestep count to zero\n",
    "count = 0\n",
    "\n",
    "# Set model run time\n",
    "run_time = 5e5  # years\n",
    "\n",
    "# Array to save sediment flux values\n",
    "sed_flux = np.zeros(int(run_time // timestep))\n",
    "\n",
    "# Uplift rate in m/yr\n",
    "U = 1e-2"
   ]
  },
  {
   "cell_type": "markdown",
   "metadata": {},
   "source": [
    "##### Run model"
   ]
  },
  {
   "cell_type": "code",
   "execution_count": null,
   "metadata": {},
   "outputs": [],
   "source": [
    "cmap = copy.copy(mpl.colormaps[\"terrain\"])\n",
    "\n",
    "while elapsed_time < run_time:  # time units of years\n",
    "    # Insert uplift at core nodes\n",
    "    mg.at_node[\"bedrock__elevation\"][mg.core_nodes] += U * timestep\n",
    "    mg.at_node[\"topographic__elevation\"][:] = (\n",
    "        mg.at_node[\"bedrock__elevation\"] + mg.at_node[\"soil__depth\"]\n",
    "    )\n",
    "\n",
    "    # Run the flow router\n",
    "    fr.run_one_step()\n",
    "\n",
    "    # Run SPACE for one time step\n",
    "    sp.run_one_step(dt=timestep)\n",
    "\n",
    "    # Add to value of elapsed time\n",
    "    elapsed_time += timestep\n",
    "\n",
    "    if np.mod(elapsed_time, 1e5) == 0:\n",
    "        print(\"%.2f of model run completed\" % (elapsed_time / run_time))"
   ]
  },
  {
   "cell_type": "markdown",
   "metadata": {},
   "source": [
    "### 4. Running GravelBedrockErodor on the fake landscape. [John]\n",
    "\n",
    "products:\n",
    "a. abraded elevation raster\n",
    "b. abraded soil depth raster"
   ]
  },
  {
   "cell_type": "markdown",
   "metadata": {},
   "source": [
    "### 5. Extract/Plot channel network & sediment flux at critical nodes [Yuan]\n",
    "\n",
    "products: figures, the network?, critical nodes"
   ]
  },
  {
   "cell_type": "markdown",
   "metadata": {},
   "source": [
    "### 6. Extract/Plot channel long-profile info [Nilay]\n",
    "\n",
    "products: figures (elevation bedrock profile, soil depth, fraction of bedrock exposure), chi, ksn...)"
   ]
  },
  {
   "cell_type": "markdown",
   "metadata": {},
   "source": [
    "### Generate serious of plots for time-series analysis"
   ]
  }
 ],
 "metadata": {
  "kernelspec": {
   "display_name": "base",
   "language": "python",
   "name": "python3"
  },
  "language_info": {
   "name": "python",
   "version": "3.10.14"
  }
 },
 "nbformat": 4,
 "nbformat_minor": 2
}
