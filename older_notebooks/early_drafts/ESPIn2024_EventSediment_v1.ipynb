{
 "cells": [
  {
   "cell_type": "markdown",
   "id": "ecccd749",
   "metadata": {
    "slideshow": {
     "slide_type": "subslide"
    }
   },
   "source": [
    "## ***Fluvial Sedimentary Response on Large Deep-Seated landslide Events***\n",
    "### CSDMS ESPIn 2024: Event-Sediment-Pluse Team\n",
    "Contributers (listed in the aphabetic order of last name): \n",
    "- Nilay Iscen\n",
    "- John Kemper\n",
    "- Larry Syu-Heng Lai\n",
    "- Yuan Li"
   ]
  },
  {
   "cell_type": "markdown",
   "id": "3f952851",
   "metadata": {
    "slideshow": {
     "slide_type": "-"
    }
   },
   "source": [
    "___"
   ]
  },
  {
   "cell_type": "markdown",
   "id": "25a0147a",
   "metadata": {
    "slideshow": {
     "slide_type": "subslide"
    }
   },
   "source": [
    "## Introduction\n",
    "\n",
    "Large deep-seated landslides area important events to alter the hillslopes and relocate large amount of the sedimentary mass to the river network. However, how fast could this landslide-derived sedimentary signal propagate through the river network remain poorly known and difficult to be tracked in a real world system. In this team project, we adapt several landscape evolution modules from the `landlab` v2.7 to simulate how a landslide-prone fluvial landscape respond to a sudden sediment supply by short-term catastrophic landslide event.\n",
    "\n",
    "<img src=\"ososlide.jpg\" alt=\"drawing\" width=\"600\"/>\n",
    "\n",
    "*2014 Oso Landlside, WA (image from The Seattle Times)*\n",
    "<hr>\n",
    "\n",
    "In this notebook, we will utilize the **GravelBedrockEroder**, **BedrockLandslider**, **FlowAccumulator** and **DepressionFinderAndRouter** components to perform the analysis through following steps:\n",
    "\n",
    "* Step 1: Setup an steady-state initial landscape before catastropic landslide event\n",
    "    * Run simulation using SPACE\n",
    "    * Show the landform, sediment thickness, and river long-profile\n",
    "\n",
    "* Step 2: Hit a 20-year-long catastrophic landslide \"event\" to the landscape\n",
    "    * Run simulation using Hyland (BedrockLandsider) for 20 years\n",
    "    * Show the landform, sediment thickness, and river long-profile\n",
    "\n",
    "* Step 3: See how landslide-derived sediments affect the evolution of downstream channels.\n",
    "    * Run simulation using GravelBedrockEroder for 20 years\n",
    "    * Plot changing landform/profile, soil thickness of each time step (every year)\n",
    "\n",
    "We also have an EXTRA Step, in which we import modeling outcome from the landslide-evet team in our step 3. Instead of using a synthetic landscape, the landslide-evet team imposes landslide events on a real landscape using two model's, the **BedrockLandslider** and a mass-wasting module, to compare the results and show how our analysis may be applied to real-world research. \n",
    "\n",
    "<hr>\n",
    "\n",
    "References:\n",
    "* Shobe, C. M., Tucker, G. E., and Barnhart, K. R.: The SPACE 1.0 model: a Landlab component for 2-D calculation of sediment transport, bedrock erosion, and landscape evolution, Geosci. Model Dev., 10, 4577-4604, https://doi.org/10.5194/gmd-10-4577-2017, 2017. \n",
    "* Campforts, B., Shobe, C. M., Steer, P., Vanmaercke, M., Lague, D., and Braun, J.: HyLands 1.0: a hybrid landscape evolution model to simulate the impact of landslides and landslide-derived sediment on landscape evolution, Geosci. Model Dev., 13, 3863–3886, https://doi.org/10.5194/gmd-13-3863-2020, 2020.\n",
    "* GravelBedrockEroder: rock incision, bed-load transport, and downstream abrasion in a river network. https://landlab.readthedocs.io/en/latest/reference/components/gravel_bedrock_eroder.html\n"
   ]
  },
  {
   "cell_type": "markdown",
   "id": "70736ff6",
   "metadata": {},
   "source": [
    "<hr>"
   ]
  },
  {
   "cell_type": "markdown",
   "id": "9c0d61a3",
   "metadata": {},
   "source": [
    "### Importing necessary libraries and components:"
   ]
  },
  {
   "cell_type": "code",
   "execution_count": 294,
   "id": "f915d4e2",
   "metadata": {
    "tags": []
   },
   "outputs": [],
   "source": [
    "import copy\n",
    "import matplotlib as mpl\n",
    "import matplotlib.pyplot as plt  # For plotting results; optional\n",
    "import numpy as np\n",
    "\n",
    "from landlab import RasterModelGrid  # Grid utility\n",
    "from landlab import imshow_grid, imshowhs_grid  # For plotting results; optional\n",
    "from landlab.components import BedrockLandslider  # BedrockLandslider model\n",
    "from landlab.components import SpaceLargeScaleEroder  # SPACE model\n",
    "from landlab.components import PriorityFloodFlowRouter\n",
    "from landlab.components import FlowAccumulator, GravelBedrockEroder # GBE model\n",
    "from landlab.components import ChannelProfiler # channel profiles with sediment\n",
    "\n",
    "import pickle # For saving and loading landlab grid object "
   ]
  },
  {
   "cell_type": "markdown",
   "id": "2f050af4",
   "metadata": {},
   "source": [
    "#### Define plotting function for long-river profile of the main trunk"
   ]
  },
  {
   "cell_type": "code",
   "execution_count": 295,
   "id": "09e976fc",
   "metadata": {},
   "outputs": [],
   "source": [
    "def plot_profile_soil(mg):\n",
    "\n",
    "    profiler = ChannelProfiler(mg)\n",
    "    profiler.run_one_step()\n",
    "    riv_nodes = profiler.nodes\n",
    "\n",
    "    mg.at_node[\"bedrock_elevation\"]=mg.at_node[\"topographic__elevation\"]-mg.at_node[\"soil__depth\"]\n",
    "    dist_atNodes=profiler.distance_along_profile[0]\n",
    "\n",
    "    el = mg.at_node[\"topographic__elevation\"][riv_nodes]\n",
    "    sd = mg.at_node[\"soil__depth\"][riv_nodes]\n",
    "\n",
    "    br = el-sd     # Use ravel() to flatten el and br to 1D\n",
    "    el = el.ravel()\n",
    "    sd = sd.ravel()\n",
    "    br = br.ravel() # Calculate minimum elevation and relief\n",
    "\n",
    "    min_elevation = min(np.min(el), np.min(br), 0)\n",
    "    el_relief = el - min_elevation\n",
    "    br_relief = br - min_elevation\n",
    "\n",
    "    qs = mg.at_node[\"sediment__flux\"][riv_nodes]\n",
    "    qs[np.where(qs<10)] = np.nanplt_fontsize =10     \n",
    "\n",
    "    fig, ax1 = plt.subplots(figsize=(5,3.7), dpi=400)\n",
    "    ax2 = ax1.twinx()\n",
    "\n",
    "    dist = (max(dist_atNodes)-dist_atNodes)*1e-3\n",
    "    brown_c = [205/255,133/255,63/255] # Fill the entire area from max relief to 0\n",
    "\n",
    "    ax1.fill_between(dist, np.max(el_relief), 0, color='lightgrey', label='total area') # Fill the bedrock and colluvial material relief\n",
    "    ax1.fill_between(dist, br_relief, 0, color='grey', label='bedrock')\n",
    "    ax1.fill_between(dist, el_relief, br_relief, color=brown_c, label='colluvial material') # Plot bedrock and topographic relief\n",
    "\n",
    "    lns2 = ax1.plot(dist, br_relief, color='k', label='bedrock', linewidth=0.8, zorder=3)\n",
    "    lns1 = ax1.plot(dist, el_relief, color='brown', label='topo', linewidth=1, zorder=4) # set up labels\n",
    "\n",
    "    ax1.set_xlabel('Distance Along Profile, km', fontweight='normal', fontsize=10.0)\n",
    "    ax1.tick_params(labelsize=10.0)\n",
    "    ax1.set_ylabel('Relief, m', fontweight='normal', fontsize=10.0)\n",
    "    ax1.set_ylim((np.min(el_relief), np.max(el_relief)*1.1))\n",
    "\n",
    "\n",
    "    # plot sediment thickness\n",
    "    lns3 = ax2.plot(dist, sd, color='orange', label ='sediment', linewidth=0.8)\n",
    "\n",
    "    ax2.set_ylabel('Sediment thickness, m', fontweight='normal', fontsize=10.0)\n",
    "    ax2.set_ylim((0, np.nanmax(sd)*1.4))\n",
    "    #ax2.set_xlim((0, dist[2]))\n",
    "    ax2.tick_params(labelsize=10.0) # Merge legends\n",
    "\n",
    "    lns = lns1 + lns2 + lns3\n",
    "    labs = [l.get_label() for l in lns]\n",
    "\n",
    "    ax1.legend(lns, labs, fontsize=10.0) # Set y-axis to start from 0\n",
    "    ax1.set_ylim(bottom=0)"
   ]
  },
  {
   "cell_type": "markdown",
   "id": "2f37611a",
   "metadata": {},
   "source": [
    "<hr>"
   ]
  },
  {
   "cell_type": "markdown",
   "id": "92bf9a3b-8369-42c0-b878-8abbe1c30524",
   "metadata": {},
   "source": [
    "### STEP 1: **Creating a synthetic initial steady-state landscape:**\n",
    "Here, we use **SPACE**, **PriorityFloodFlowRouter** to setup a synthetic initial landscape before impacted by the large landslide event"
   ]
  },
  {
   "cell_type": "markdown",
   "id": "90be87c1",
   "metadata": {},
   "source": [
    "### Instantiating the model grid:\n",
    "\n",
    "* instantiate the model grid, and set the boundary conditions\n",
    "* All boundary edges are set to be closed, emulating the whole grid as a single watershed. Only the bottom left corner is open as the watershed outlet."
   ]
  },
  {
   "cell_type": "code",
   "execution_count": 296,
   "id": "e775c9b1-6ac1-40f6-b862-223d5aef7362",
   "metadata": {},
   "outputs": [],
   "source": [
    "# Create initial model topography:\n",
    "\n",
    "# Set model grid shape and size\n",
    "num_rows = 30\n",
    "num_columns = 30\n",
    "node_spacing = 25.0\n",
    "\n",
    "# Instantiate model grid\n",
    "mg = RasterModelGrid((num_rows, num_columns), node_spacing) \n",
    "mg.add_zeros(\"node\", \"topographic__elevation\") # add field ’topographic elevation’ to the grid\n",
    "# add topographic roughness\n",
    "random_noise = (np.random.rand(len(mg.node_y)) / 1000.0)  # impose topography values on model grid\n",
    "mg[\"node\"][\"topographic__elevation\"] += random_noise\n",
    "\n",
    "mg.add_zeros(\"node\", \"soil__depth\") # Create a field 'soil__depth' to the grid\n",
    "mg.at_node[\"soil__depth\"][mg.core_nodes] = 1.0  #Set s m of initial soil depth at core nodes\n",
    "\n",
    "# Add field 'bedrock__elevation' to the grid\n",
    "mg.add_zeros(\"bedrock__elevation\", at=\"node\")\n",
    "\n",
    "# Yield 'topographic elevation' by summing 'soil__depth' and 'bedrock__elevation'\n",
    "mg.at_node[\"bedrock__elevation\"][:] = mg.at_node[\"topographic__elevation\"]\n",
    "mg.at_node[\"topographic__elevation\"][:] += mg.at_node[\"soil__depth\"]\n",
    "\n",
    "# Close all model boundary edges except the node #5, allowing only one outlet\n",
    "mg.set_closed_boundaries_at_grid_edges(\n",
    "    bottom_is_closed=True,\n",
    "    left_is_closed=True,\n",
    "    right_is_closed=True,\n",
    "    top_is_closed=True,\n",
    ")\n",
    "mg.status_at_node[0] = 1 "
   ]
  },
  {
   "cell_type": "markdown",
   "id": "d8455013",
   "metadata": {},
   "source": [
    "### Instantiating model components for the initial landscape:\n",
    "\n",
    "Here we instantiate the **PriorityFloodFlowRouter** and **BedrockLandslider**, with default model parameters following `landlab`'s **Hyland turtorial Jupyter notebook** (https://github.com/landlab/landlab/blob/master/notebooks/tutorials/landscape_evolution/hylands/HyLandsTutorial.ipynb)"
   ]
  },
  {
   "cell_type": "code",
   "execution_count": 297,
   "id": "b94dec67",
   "metadata": {
    "tags": []
   },
   "outputs": [],
   "source": [
    "# Instantiate flow router\n",
    "fr = PriorityFloodFlowRouter(mg, flow_metric=\"D8\", suppress_out=True)\n",
    "\n",
    "# Instantiate SPACE model with chosen parameters\n",
    "sp = SpaceLargeScaleEroder(\n",
    "    mg,\n",
    "    K_sed=2.5e-5,\n",
    "    K_br=2.5e-5,\n",
    "    F_f=0.0,\n",
    "    phi=0.0,\n",
    "    H_star=1.0,\n",
    "    v_s=1,\n",
    "    m_sp=0.5,\n",
    "    n_sp=1.0,\n",
    "    sp_crit_sed=0,\n",
    "    sp_crit_br=0,\n",
    ")"
   ]
  },
  {
   "cell_type": "markdown",
   "id": "3c821ece",
   "metadata": {},
   "source": [
    "### Run SPACE to generate the initial semi-steady-state landscape\n",
    "We iterate the **SPACE** through a time loop to evolve the landscape over 500k years, approaching to a steady state."
   ]
  },
  {
   "cell_type": "code",
   "execution_count": null,
   "id": "162479aa",
   "metadata": {
    "tags": []
   },
   "outputs": [],
   "source": [
    "# Set model parameters\n",
    "timestep = 500       # timestep in years\n",
    "elapsed_time = 0.0   # Set elapsed time to zero\n",
    "count = 0            # Set timestep count to zero\n",
    "run_time = 500000    # Set model run time\n",
    "U = 0.001            # Uplift rate in m/yr\n",
    "sed_flux = np.zeros(int(run_time // timestep)) # Array to save sediment flux values\n",
    "\n",
    "cmap = copy.copy(mpl.colormaps[\"terrain\"])  # Define the color map for elevation\n",
    "\n",
    "while elapsed_time < run_time:  # time units of years\n",
    "    # Insert uplift at core nodes\n",
    "    mg.at_node[\"bedrock__elevation\"][mg.core_nodes] += U * timestep\n",
    "    mg.at_node[\"topographic__elevation\"][:] = (\n",
    "        mg.at_node[\"bedrock__elevation\"] + mg.at_node[\"soil__depth\"]\n",
    "    )\n",
    "\n",
    "    # Run the flow router\n",
    "    fr.run_one_step()\n",
    "\n",
    "    # Run SPACE for one time step\n",
    "    sp.run_one_step(dt=timestep)\n",
    "\n",
    "    # Add to value of elapsed time\n",
    "    elapsed_time += timestep\n",
    "\n",
    "    if np.mod(elapsed_time, 1e5) == 0:\n",
    "        print(\"%.2f of model run completed\" % (elapsed_time / run_time))"
   ]
  },
  {
   "cell_type": "markdown",
   "id": "7c822f64",
   "metadata": {},
   "source": [
    "##### Export pre-landslide initial landscape landlab grid object as a pickle file for potential uses in other notebooks"
   ]
  },
  {
   "cell_type": "code",
   "execution_count": 299,
   "id": "a402e497",
   "metadata": {},
   "outputs": [],
   "source": [
    "# Exporting landlab grid object\n",
    "with open('pre-slide_fakelandscape.pickle', 'wb') as f:\n",
    "    pickle.dump(mg, f)"
   ]
  },
  {
   "cell_type": "markdown",
   "id": "be679bb0",
   "metadata": {},
   "source": [
    "### Plotting drainage network, river profile, and other attributes"
   ]
  },
  {
   "cell_type": "markdown",
   "id": "1b0e28ce",
   "metadata": {},
   "source": [
    "##### Plot landscape, soildepth, and plane-view river network (Yuan Li)"
   ]
  },
  {
   "cell_type": "code",
   "execution_count": null,
   "id": "f4c312a5",
   "metadata": {
    "tags": []
   },
   "outputs": [],
   "source": [
    "cmap = copy.copy(mpl.colormaps[\"terrain\"])\n",
    "# Show DEM draped over the shaded topographic relief\n",
    "imshowhs_grid(\n",
    "    mg,\n",
    "    \"topographic__elevation\",\n",
    "    var_name=\"Topo\",\n",
    "    var_units=r\"m\",\n",
    "    grid_units=(\"m\", \"m\"),\n",
    "    cmap=cmap,\n",
    "    ticks_km=False,\n",
    ")\n",
    "plt.show()\n",
    "# Show Soil thickness draped over the shaded topographic relief\n",
    "cmap = copy.copy(mpl.colormaps[\"pink\"])\n",
    "imshowhs_grid(\n",
    "    mg,\n",
    "    \"topographic__elevation\",\n",
    "    drape1=mg.at_node[\"soil__depth\"],\n",
    "    plot_type=\"Drape1\",\n",
    "    var_name=\"Soil\",\n",
    "    var_units=r\"m\",\n",
    "    grid_units=(\"m\", \"m\"),\n",
    "    cmap=cmap,\n",
    "    ticks_km=False,\n",
    ")\n",
    "\n",
    "z_before_LS = np.array(mg[\"node\"][\"topographic__elevation\"])"
   ]
  },
  {
   "cell_type": "markdown",
   "id": "16fe1c4f",
   "metadata": {},
   "source": [
    "#### Plot long-river profile and other info (Nilay)\n",
    "##### ***Inspired by Dr. Susannah Morey's unpublished works***"
   ]
  },
  {
   "cell_type": "code",
   "execution_count": null,
   "id": "8ff280fd",
   "metadata": {},
   "outputs": [],
   "source": [
    "plot_profile_soil(mg)"
   ]
  },
  {
   "cell_type": "markdown",
   "id": "3a6f3530",
   "metadata": {},
   "source": [
    "<hr>"
   ]
  },
  {
   "cell_type": "markdown",
   "id": "012a2e7a",
   "metadata": {},
   "source": [
    "## STEP 2: **Hit the catastrophic landslide event to the landscape:**\n",
    "### Run the Hyland (Bedrocklandslider) to the steady-state landscape for 20 years:"
   ]
  },
  {
   "cell_type": "markdown",
   "id": "41ab1c07",
   "metadata": {},
   "source": [
    "Initialize the flow director and SPACE and BedrockLandslider components"
   ]
  },
  {
   "cell_type": "code",
   "execution_count": 302,
   "id": "36d705c5",
   "metadata": {},
   "outputs": [],
   "source": [
    "# Instantiate flow router, with additional multiple flow director for hillslopes\n",
    "fr = PriorityFloodFlowRouter(\n",
    "    mg,\n",
    "    flow_metric=\"D8\",\n",
    "    separate_hill_flow=True,\n",
    "    hill_flow_metric=\"Quinn\",\n",
    "    update_hill_flow_instantaneous=True,\n",
    ")\n",
    "\n",
    "# Instantiate SPACE model with chosen parameters\n",
    "hy = BedrockLandslider(\n",
    "    mg,\n",
    "    angle_int_frict=0.4,\n",
    "    cohesion_eff=1e3,\n",
    "    landslides_return_time=1000,\n",
    "    landslides_on_boundary_nodes=False,\n",
    ")"
   ]
  },
  {
   "cell_type": "markdown",
   "id": "62c4999c",
   "metadata": {},
   "source": [
    "Run the time loop over 20 years to develop a landscape with landslide activities"
   ]
  },
  {
   "cell_type": "code",
   "execution_count": 303,
   "id": "4b374d3d",
   "metadata": {
    "tags": []
   },
   "outputs": [],
   "source": [
    "timestep = 2  # years\n",
    "landslides_size_all_steps = []\n",
    "\n",
    "for i in range(10):\n",
    "    # Insert uplift at core nodes\n",
    "    mg.at_node[\"bedrock__elevation\"][mg.core_nodes] += U * timestep\n",
    "    mg.at_node[\"topographic__elevation\"][:] = (\n",
    "        mg.at_node[\"bedrock__elevation\"] + mg.at_node[\"soil__depth\"]\n",
    "    )\n",
    "\n",
    "    # Run the flow router\n",
    "    fr.run_one_step()\n",
    "\n",
    "    # Run SPACE for one time step\n",
    "    sp.run_one_step(dt=timestep)\n",
    "\n",
    "    # Run BedrockLandslider for one time step\n",
    "    hy.run_one_step(dt=timestep)\n",
    "\n",
    "    # Store landslide sizes of current time step into general ls_size list\n",
    "    landslides_size_all_steps = np.append(landslides_size_all_steps, hy.landslides_size)"
   ]
  },
  {
   "cell_type": "markdown",
   "id": "86c60d8a",
   "metadata": {},
   "source": [
    "Export post-landslide landscape landlab grid object as a pickle file"
   ]
  },
  {
   "cell_type": "code",
   "execution_count": 304,
   "id": "95ac425d",
   "metadata": {},
   "outputs": [],
   "source": [
    "# Exporting landlab grid object\n",
    "with open('post-slide_fakelandscape.pickle', 'wb') as f:\n",
    "    pickle.dump(mg, f)"
   ]
  },
  {
   "cell_type": "markdown",
   "id": "84318f2e",
   "metadata": {},
   "source": [
    "##### Plot post-landslide landscape, soildepth, and plane-view river network etc (Yuan Li)"
   ]
  },
  {
   "cell_type": "code",
   "execution_count": null,
   "id": "c06c33d3",
   "metadata": {},
   "outputs": [],
   "source": [
    "cmap = copy.copy(mpl.colormaps[\"terrain\"])\n",
    "# Show DEM draped over the shaded topographic relief\n",
    "imshowhs_grid(\n",
    "    mg,\n",
    "    \"topographic__elevation\",\n",
    "    var_name=\"Topo\",\n",
    "    var_units=r\"m\",\n",
    "    grid_units=(\"m\", \"m\"),\n",
    "    cmap=cmap,\n",
    "    ticks_km=False,\n",
    ")\n",
    "plt.show()\n",
    "# Show Soil thickness draped over the shaded topographic relief\n",
    "cmap = copy.copy(mpl.colormaps[\"pink\"])\n",
    "imshowhs_grid(\n",
    "    mg,\n",
    "    \"topographic__elevation\",\n",
    "    drape1=mg.at_node[\"soil__depth\"],\n",
    "    plot_type=\"Drape1\",\n",
    "    var_name=\"Soil\",\n",
    "    var_units=r\"m\",\n",
    "    grid_units=(\"m\", \"m\"),\n",
    "    cmap=cmap,\n",
    "    ticks_km=False,\n",
    ")\n",
    "\n",
    "z_before_LS = np.array(mg[\"node\"][\"topographic__elevation\"])"
   ]
  },
  {
   "cell_type": "markdown",
   "id": "5fce6df4",
   "metadata": {},
   "source": [
    "##### Plot river profile and other info for post-landslide landscape (Nilay)"
   ]
  },
  {
   "cell_type": "code",
   "execution_count": null,
   "id": "353c6b4b",
   "metadata": {},
   "outputs": [],
   "source": [
    "plot_profile_soil(mg)"
   ]
  },
  {
   "cell_type": "markdown",
   "id": "27aed7e6",
   "metadata": {},
   "source": [
    "You may think 10-60 meters of landslide deposit is unrealistic, but here is a great example showing > ~80 m landslide deposit happened at southwestern Taiwan in 2009:\n",
    "\n",
    "<img src=\"shiaolinTWslide.jpg\" alt=\"drawing\" width=\"600\"/>\n",
    "\n",
    "*2009 Shaolin Landlside, Taiwan (image from AGU: https://blogs.agu.org/landslideblog/2010/02/02/the-causes-of-the-shiaolin-landslide-disaster-in-taiwan/)*"
   ]
  },
  {
   "cell_type": "code",
   "execution_count": null,
   "id": "197ca4b9",
   "metadata": {},
   "outputs": [],
   "source": [
    "# channel profiles with sediment   ------- NiLAY added this, longer code ---------\n",
    "dx = node_spacing\n",
    "area_threshold = dx*dx*10.\n",
    "\n",
    "profiler = ChannelProfiler(mg, number_of_watersheds=1, minimum_channel_threshold=area_threshold, main_channel_only=False)\n",
    "profiler.run_one_step()\n",
    "\n",
    "#plot channel profiles\n",
    "\n",
    "outlets = list(profiler.data_structure.keys()) #outlets from channel profiler\n",
    "for outlet in outlets: #cycle thru outlets\n",
    "    segments = list(profiler.data_structure[outlet].keys()) #segments for that watershed\n",
    "    #print(segments)\n",
    "    for i, segment in enumerate(segments): #cycle thru segments\n",
    "        ids = profiler.data_structure[outlet][segment]['ids'] #ids (index) of each segment\n",
    "        distance = profiler.data_structure[outlet][segment]['distances']#distance downstream of each segment node\n",
    "        eta = mg.at_node['topographic__elevation'][ids] #elevation of each segment node\n",
    "        plt.scatter(distance,eta,alpha=1) #plot profile\n",
    "        #plt.plot(distance,eta,color='green',alpha=1)   \n",
    "plt.show()"
   ]
  },
  {
   "cell_type": "code",
   "execution_count": null,
   "id": "49549643",
   "metadata": {},
   "outputs": [],
   "source": [
    "# VERY EASY WAY from methods/functions of the component:\n",
    "profiler.plot_profiles()"
   ]
  },
  {
   "cell_type": "code",
   "execution_count": null,
   "id": "9cca960a",
   "metadata": {},
   "outputs": [],
   "source": [
    "profiler.plot_profiles_in_map_view()"
   ]
  },
  {
   "cell_type": "markdown",
   "id": "076dec4b",
   "metadata": {},
   "source": [
    "<hr>"
   ]
  },
  {
   "cell_type": "markdown",
   "id": "fc594546",
   "metadata": {},
   "source": [
    "### STEP 3: See how landslide-derived sediments affect the evolution of downstream channels.\n",
    "We run `GravelBedrockEroder` to simulate this effect through time"
   ]
  },
  {
   "cell_type": "markdown",
   "id": "97c52323",
   "metadata": {},
   "source": [
    "### Run GravelBedrockEroder (Need John's contribution)\n",
    "Setup timestep, backgroup uplift rate, and flow routing. etc. and RUN"
   ]
  },
  {
   "cell_type": "code",
   "execution_count": null,
   "id": "84031d48",
   "metadata": {},
   "outputs": [],
   "source": [
    "elev = mg.at_node[\"topographic__elevation\"]\n",
    "\n",
    "fa = FlowAccumulator(mg, runoff_rate=10.0)\n",
    "fa.run_one_step()\n",
    "eroder = GravelBedrockEroder(mg, abrasion_coefficient=0.0005,\n",
    "                            coarse_fraction_from_plucking=0.1)\n",
    "rock_elev = mg.at_node[\"bedrock__elevation\"]\n",
    "elev = mg.at_node[\"topographic__elevation\"]\n",
    "#years_forward = mg.add_zeros[\"years_in_future\", at = \"node\"]\n",
    "for i in range(20):\n",
    "     rock_elev[mg.core_nodes] += 0.002\n",
    "     elev[mg.core_nodes] += 0.002\n",
    "     fa.run_one_step()\n",
    "     mg.at_node[\"surface_water__discharge\"] *= 1.0 / (3600 * 24 * 365.25)\n",
    "     chan_width = eroder.calc_implied_width(time_unit=\"s\")\n",
    "     eroder.calc_sediment_rate_of_change(),\n",
    "     eroder.run_one_step(1.0)"
   ]
  },
  {
   "cell_type": "code",
   "execution_count": null,
   "id": "8ca19282",
   "metadata": {},
   "outputs": [],
   "source": [
    "imshow_grid(mg, elev, cmap = \"terrain\")"
   ]
  },
  {
   "cell_type": "code",
   "execution_count": null,
   "id": "a6bb9c7a",
   "metadata": {},
   "outputs": [],
   "source": [
    "imshow_grid(mg, \"soil__depth\", cmap = \"copper\")"
   ]
  },
  {
   "cell_type": "code",
   "execution_count": null,
   "id": "2daa5589",
   "metadata": {},
   "outputs": [],
   "source": [
    "imshow_grid(mg, chan_width,\n",
    "            plot_name = \"Channel Width\", \n",
    "            cmap = \"terrain\")"
   ]
  },
  {
   "cell_type": "code",
   "execution_count": null,
   "id": "62ee1943",
   "metadata": {},
   "outputs": [],
   "source": [
    "imshow_grid(mg, \"sediment__flux\", cmap = \"cool\")"
   ]
  },
  {
   "cell_type": "markdown",
   "id": "9f723a1a",
   "metadata": {},
   "source": [
    "##### Plot post-Gravel Bedrock erosion landscape, soildepth, and plane-view river network etc (Yuan Li)"
   ]
  },
  {
   "cell_type": "code",
   "execution_count": null,
   "id": "0d4c440f",
   "metadata": {},
   "outputs": [],
   "source": [
    "cmap = copy.copy(mpl.colormaps[\"terrain\"])\n",
    "# Show DEM draped over the shaded topographic relief\n",
    "imshowhs_grid(\n",
    "    mg,\n",
    "    \"topographic__elevation\",\n",
    "    var_name=\"Topo\",\n",
    "    var_units=r\"m\",\n",
    "    grid_units=(\"m\", \"m\"),\n",
    "    cmap=cmap,\n",
    "    ticks_km=False,\n",
    ")\n",
    "plt.show()\n",
    "\n",
    "# Show Soil thickness draped over the shaded topographic relief\n",
    "cmap = copy.copy(mpl.colormaps[\"pink\"])\n",
    "imshowhs_grid(\n",
    "    mg,\n",
    "    \"topographic__elevation\",\n",
    "    drape1=mg.at_node[\"soil__depth\"],\n",
    "    plot_type=\"Drape1\",\n",
    "    var_name=\"Soil\",\n",
    "    var_units=r\"m\",\n",
    "    grid_units=(\"m\", \"m\"),\n",
    "    cmap=cmap,\n",
    "    ticks_km=False,\n",
    ")"
   ]
  },
  {
   "cell_type": "markdown",
   "id": "f0fcd898",
   "metadata": {},
   "source": [
    "##### Plot river profile and other info for post-landslide landscape (Nilay)"
   ]
  },
  {
   "cell_type": "code",
   "execution_count": null,
   "id": "387022d1",
   "metadata": {},
   "outputs": [],
   "source": [
    "plot_profile_soil(mg)"
   ]
  },
  {
   "cell_type": "markdown",
   "id": "6c65fdfe",
   "metadata": {},
   "source": [
    "<hr>"
   ]
  },
  {
   "cell_type": "markdown",
   "id": "6180a3bb",
   "metadata": {},
   "source": [
    "### EXTRA STEP: load and analyze real landscape"
   ]
  },
  {
   "cell_type": "code",
   "execution_count": null,
   "id": "e4bf03f6",
   "metadata": {},
   "outputs": [],
   "source": [
    "# import pickle file of real pre-landslide landlab grid object\n",
    "with open('pre-slide_landscape.pickle', 'rb') as g:\n",
    "    mg2 = pickle.load(g)"
   ]
  },
  {
   "cell_type": "code",
   "execution_count": null,
   "id": "84bd8b77",
   "metadata": {},
   "outputs": [],
   "source": [
    "cmap = copy.copy(mpl.colormaps[\"terrain\"])\n",
    "# Show DEM draped over the shaded topographic relief\n",
    "imshowhs_grid(\n",
    "    mg2,\n",
    "    \"topographic__elevation\",\n",
    "    var_name=\"Topo\",\n",
    "    var_units=r\"m\",\n",
    "    grid_units=(\"m\", \"m\"),\n",
    "    cmap=cmap,\n",
    "    ticks_km=False,\n",
    ")\n",
    "plt.show()\n",
    "# Show Soil thickness draped over the shaded topographic relief\n",
    "cmap = copy.copy(mpl.colormaps[\"pink\"])\n",
    "imshowhs_grid(\n",
    "    mg2,\n",
    "    \"topographic__elevation\",\n",
    "    drape1=mg2.at_node[\"soil__depth\"],\n",
    "    plot_type=\"Drape1\",\n",
    "    var_name=\"Soil\",\n",
    "    var_units=r\"m\",\n",
    "    grid_units=(\"m\", \"m\"),\n",
    "    cmap=cmap,\n",
    "    ticks_km=False,\n",
    ")\n",
    "\n",
    "z_before_LS = np.array(mg2[\"node\"][\"topographic__elevation\"])"
   ]
  },
  {
   "cell_type": "code",
   "execution_count": null,
   "id": "4a4d3e13",
   "metadata": {},
   "outputs": [],
   "source": [
    "plot_profile_soil(mg2)"
   ]
  },
  {
   "cell_type": "code",
   "execution_count": null,
   "id": "0eb7aab2",
   "metadata": {},
   "outputs": [],
   "source": [
    "# Import pickle file of real post-landslide landlab grid object\n",
    "with open('post-bedrock-slide_landscape.pickle', 'rb') as g:\n",
    "    mg2 = pickle.load(g)"
   ]
  },
  {
   "cell_type": "code",
   "execution_count": null,
   "id": "0352ca1b",
   "metadata": {},
   "outputs": [],
   "source": [
    "cmap = copy.copy(mpl.colormaps[\"terrain\"])\n",
    "# Show DEM draped over the shaded topographic relief\n",
    "imshowhs_grid(\n",
    "    mg2,\n",
    "    \"topographic__elevation\",\n",
    "    var_name=\"Topo\",\n",
    "    var_units=r\"m\",\n",
    "    grid_units=(\"m\", \"m\"),\n",
    "    cmap=cmap,\n",
    "    ticks_km=False,\n",
    ")\n",
    "plt.show()\n",
    "# Show Soil thickness draped over the shaded topographic relief\n",
    "cmap = copy.copy(mpl.colormaps[\"pink\"])\n",
    "imshowhs_grid(\n",
    "    mg2,\n",
    "    \"topographic__elevation\",\n",
    "    drape1=mg2.at_node[\"soil__depth\"],\n",
    "    plot_type=\"Drape1\",\n",
    "    var_name=\"Soil\",\n",
    "    var_units=r\"m\",\n",
    "    grid_units=(\"m\", \"m\"),\n",
    "    cmap=cmap,\n",
    "    ticks_km=False,\n",
    ")\n",
    "\n",
    "z_before_LS = np.array(mg2[\"node\"][\"topographic__elevation\"])"
   ]
  },
  {
   "cell_type": "code",
   "execution_count": null,
   "id": "01b53ebc",
   "metadata": {},
   "outputs": [],
   "source": [
    "plot_profile_soil(mg2)"
   ]
  },
  {
   "cell_type": "markdown",
   "id": "6445ca8c",
   "metadata": {},
   "source": [
    "#### Run GravelBedrockEroder"
   ]
  },
  {
   "cell_type": "code",
   "execution_count": null,
   "id": "b29eb41f",
   "metadata": {},
   "outputs": [],
   "source": [
    "elev = mg2.at_node[\"topographic__elevation\"]\n",
    "\n",
    "fa = FlowAccumulator(mg2, runoff_rate=10.0)\n",
    "fa.run_one_step()\n",
    "eroder = GravelBedrockEroder(mg2, abrasion_coefficient=0.0005,\n",
    "                            coarse_fraction_from_plucking=0.1)\n",
    "rock_elev = mg2.at_node[\"bedrock__elevation\"]\n",
    "elev = mg2.at_node[\"topographic__elevation\"]\n",
    "#years_forward = mg.add_zeros[\"years_in_future\", at = \"node\"]\n",
    "for i in range(20):\n",
    "     rock_elev[mg2.core_nodes] += 0.002\n",
    "     elev[mg2.core_nodes] += 0.002\n",
    "     fa.run_one_step()\n",
    "     mg2.at_node[\"surface_water__discharge\"] *= 1.0 / (3600 * 24 * 365.25)\n",
    "     chan_width = eroder.calc_implied_width(time_unit=\"s\")\n",
    "     eroder.calc_sediment_rate_of_change(),\n",
    "     eroder.run_one_step(1.0)"
   ]
  },
  {
   "cell_type": "code",
   "execution_count": null,
   "id": "5b57eb65",
   "metadata": {},
   "outputs": [],
   "source": [
    "cmap = copy.copy(mpl.colormaps[\"terrain\"])\n",
    "# Show DEM draped over the shaded topographic relief\n",
    "imshowhs_grid(\n",
    "    mg2,\n",
    "    \"topographic__elevation\",\n",
    "    var_name=\"Topo\",\n",
    "    var_units=r\"m\",\n",
    "    grid_units=(\"m\", \"m\"),\n",
    "    cmap=cmap,\n",
    "    ticks_km=False,\n",
    ")\n",
    "plt.show()\n",
    "# Show Soil thickness draped over the shaded topographic relief\n",
    "cmap = copy.copy(mpl.colormaps[\"pink\"])\n",
    "imshowhs_grid(\n",
    "    mg2,\n",
    "    \"topographic__elevation\",\n",
    "    drape1=mg2.at_node[\"soil__depth\"],\n",
    "    plot_type=\"Drape1\",\n",
    "    var_name=\"Soil\",\n",
    "    var_units=r\"m\",\n",
    "    grid_units=(\"m\", \"m\"),\n",
    "    cmap=cmap,\n",
    "    ticks_km=False,\n",
    ")\n",
    "\n",
    "z_before_LS = np.array(mg2[\"node\"][\"topographic__elevation\"])"
   ]
  },
  {
   "cell_type": "code",
   "execution_count": null,
   "id": "32eb7645",
   "metadata": {},
   "outputs": [],
   "source": [
    "plot_profile_soil(mg2)"
   ]
  },
  {
   "cell_type": "markdown",
   "id": "422dd65c",
   "metadata": {},
   "source": [
    "# Summary\n",
    "\n",
    "### This notebook evaluates the impact of sediment pulses on gravel-bed river network evolution.\n",
    "\n",
    "ESPIn 2024\n",
    "More here..."
   ]
  }
 ],
 "metadata": {
  "kernelspec": {
   "display_name": "Python 3 (ipykernel)",
   "language": "python",
   "name": "python3"
  },
  "language_info": {
   "codemirror_mode": {
    "name": "ipython",
    "version": 3
   },
   "file_extension": ".py",
   "mimetype": "text/x-python",
   "name": "python",
   "nbconvert_exporter": "python",
   "pygments_lexer": "ipython3",
   "version": "3.10.14"
  }
 },
 "nbformat": 4,
 "nbformat_minor": 5
}
