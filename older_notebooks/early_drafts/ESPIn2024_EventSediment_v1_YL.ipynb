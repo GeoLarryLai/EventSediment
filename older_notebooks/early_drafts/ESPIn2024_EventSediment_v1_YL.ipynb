{
 "cells": [
  {
   "cell_type": "markdown",
   "id": "ecccd749",
   "metadata": {
    "slideshow": {
     "slide_type": "subslide"
    }
   },
   "source": [
    "# ***The influence of landslides on gravel-bed river network evolution***\n",
    "### CSDMS ESPIn 2024: Event-Sediment-Pluse Team\n",
    "Contributers (listed in the aphabetic order of last name): \n",
    "- Nilay Iscen\n",
    "- John Kemper\n",
    "- Larry Syu-Heng Lai\n",
    "- Yuan Li"
   ]
  },
  {
   "cell_type": "markdown",
   "id": "3f952851",
   "metadata": {
    "slideshow": {
     "slide_type": "-"
    }
   },
   "source": [
    "___\n",
    "___"
   ]
  },
  {
   "cell_type": "markdown",
   "id": "25a0147a",
   "metadata": {
    "slideshow": {
     "slide_type": "subslide"
    }
   },
   "source": [
    "## Introduction\n",
    "\n",
    "Landslides are the main sources of sediments to the river network in mountainous regions. In this lab, we will explore the response of river network to a sudden sediment supply increase through interactions between the landslide sediment delivery and fluvial transport.\n",
    "\n",
    "In this notebook, to achieve this analysis throught the following steps:\n",
    "* Step 1: Setup an steady-state initial landscape before catastropic landslide event\n",
    "    * Run simulation using SPACE\n",
    "    * Show the landform, sediment thickness, and river long-profile\n",
    "\n",
    "* Step 2: Hit a 20-year-long catastrophic landslide \"event\" to the landscape\n",
    "    * Run simulation using Hyland (BedrockLandsider) for 20 years\n",
    "    * Show the landform, sediment thickness, and river long-profile\n",
    "\n",
    "* Step 3: See how landslide-derived sediments affect the evolution of downstream channels.\n",
    "    * Run simulation using GravelBedrockEroder for 20 years\n",
    "    * Plot changing landform/profile, soil thickness of each time step (every year)\n",
    "\n",
    "## Model information\n",
    "### SPACE (Stream Power with Alluvium Conservation and Entrainment): \n",
    "\n",
    "The **SPACE** component is a model that simulates...\n",
    "\n",
    "For details about the **SPACE** component in Landlab:  \n",
    "\n",
    "https://landlab.readthedocs.io/en/master/reference/components/space.html \n",
    "\n",
    "Reference:\n",
    "\n",
    "Shobe, C. M., Tucker, G. E., and Barnhart, K. R.: The SPACE 1.0 model: a Landlab component for 2-D calculation of sediment transport, bedrock erosion, and landscape evolution, Geosci. Model Dev., 10, 4577-4604, https://doi.org/10.5194/gmd-10-4577-2017, 2017. \n",
    "\n",
    "### HyLands:\n",
    "\n",
    "The **Hyland** component is ...\n",
    "\n",
    "Reference:\n",
    "\n",
    "Campforts, B., Shobe, C. M., Steer, P., Vanmaercke, M., Lague, D., and Braun, J.: HyLands 1.0: a hybrid landscape evolution model to simulate the impact of landslides and landslide-derived sediment on landscape evolution, Geosci. Model Dev., 13, 3863–3886, https://doi.org/10.5194/gmd-13-3863-2020, 2020.\n",
    "\n",
    "### Landlab components:\n",
    "\n",
    "In this lab, we will also utilize the **GravelBedrockEroder**, **BedrockLandslider**, **FlowAccumulator** and **DepressionFinderAndRouter** components. \n",
    "\n",
    "**GravelBedrockEroder** is ...\n",
    "**FlowAccumulator** calculates ...\n",
    "\n",
    "\n",
    "More info can be found here:  \n",
    "\n",
    "https://landlab.readthedocs.io/en/master/reference/components/flow_accum.html \n",
    "\n",
    "https://landlab.readthedocs.io/en/master/reference/components/flow_routing.html \n",
    "\n",
    "\n",
    "\n",
    "#### Description of River Longitudinal Profiles\n",
    "The impact of fires\n",
    "\n",
    "### Other things to mention:\n",
    "\n",
    "More here.. maybe"
   ]
  },
  {
   "cell_type": "markdown",
   "id": "70736ff6",
   "metadata": {},
   "source": [
    "<hr>"
   ]
  },
  {
   "cell_type": "markdown",
   "id": "9c0d61a3",
   "metadata": {},
   "source": [
    "### Importing necessary libraries and components:"
   ]
  },
  {
   "cell_type": "code",
   "execution_count": 1,
   "id": "f915d4e2",
   "metadata": {
    "tags": []
   },
   "outputs": [],
   "source": [
    "import copy\n",
    "import matplotlib as mpl\n",
    "import matplotlib.pyplot as plt  # For plotting results; optional\n",
    "import numpy as np\n",
    "\n",
    "from landlab import RasterModelGrid  # Grid utility\n",
    "from landlab import imshow_grid, imshowhs_grid  # For plotting results; optional\n",
    "from landlab.components import BedrockLandslider  # BedrockLandslider model\n",
    "from landlab.components import SpaceLargeScaleEroder  # SPACE model\n",
    "from landlab.components import PriorityFloodFlowRouter\n",
    "from landlab.components import FlowAccumulator, GravelBedrockEroder # GBE model\n",
    "from landlab.components import ChannelProfiler # channel profiles with sediment\n",
    "from plt_topo_ntwk_soildepth import plt_landscape_evo # just a function for plotting repeated results: topo, channel network, soil depth\n",
    "import pickle # For saving and loading landlab grid object "
   ]
  },
  {
   "cell_type": "markdown",
   "id": "2f37611a",
   "metadata": {},
   "source": [
    "<hr>"
   ]
  },
  {
   "cell_type": "markdown",
   "id": "92bf9a3b-8369-42c0-b878-8abbe1c30524",
   "metadata": {},
   "source": [
    "### STEP 1: **Creating a synthetic initial steady-state landscape:**\n",
    "Here, we will define the model domain and set the parameters to create a synthetic landscape using **SPACE**, **PriorityFloodFlowRouter**"
   ]
  },
  {
   "cell_type": "markdown",
   "id": "90be87c1",
   "metadata": {},
   "source": [
    "### Instantiating the model grid:\n",
    "\n",
    "Here, we instantiate the model grid, and set the boundary conditions.\n",
    "\n",
    "The bottom left corner is the watershed outlet, which is set as an open boundary condition to allow flux out. \n",
    "All other boundary nodes are closed. \n",
    "\n",
    "Creating fields.\n",
    "\n",
    "More here.."
   ]
  },
  {
   "cell_type": "code",
   "execution_count": 2,
   "id": "e775c9b1-6ac1-40f6-b862-223d5aef7362",
   "metadata": {},
   "outputs": [],
   "source": [
    "# Create initial model topography:\n",
    "\n",
    "# Set model grid shape and size\n",
    "num_rows = 30\n",
    "num_columns = 30\n",
    "node_spacing = 25.0\n",
    "\n",
    "# Instantiate model grid\n",
    "mg = RasterModelGrid((num_rows, num_columns), node_spacing) \n",
    "mg.add_zeros(\"node\", \"topographic__elevation\") # add field ’topographic elevation’ to the grid\n",
    "# add topographic roughness\n",
    "random_noise = (np.random.rand(len(mg.node_y)) / 1000.0)  # impose topography values on model grid\n",
    "mg[\"node\"][\"topographic__elevation\"] += random_noise\n",
    "\n",
    "mg.add_zeros(\"node\", \"soil__depth\") # Create a field 'soil__depth' to the grid\n",
    "mg.at_node[\"soil__depth\"][mg.core_nodes] = 1.0  #Set s m of initial soil depth at core nodes\n",
    "\n",
    "# Add field 'bedrock__elevation' to the grid\n",
    "mg.add_zeros(\"bedrock__elevation\", at=\"node\")\n",
    "\n",
    "# Yield 'topographic elevation' by summing 'soil__depth' and 'bedrock__elevation'\n",
    "mg.at_node[\"bedrock__elevation\"][:] = mg.at_node[\"topographic__elevation\"]\n",
    "mg.at_node[\"topographic__elevation\"][:] += mg.at_node[\"soil__depth\"]\n",
    "\n",
    "# Close all model boundary edges except the node #5, allowing only one outlet\n",
    "mg.set_closed_boundaries_at_grid_edges(\n",
    "    bottom_is_closed=True,\n",
    "    left_is_closed=True,\n",
    "    right_is_closed=True,\n",
    "    top_is_closed=True,\n",
    ")\n",
    "mg.status_at_node[5] = 1 "
   ]
  },
  {
   "cell_type": "markdown",
   "id": "d8455013",
   "metadata": {},
   "source": [
    "### Instantiating model components for the initial landscape:\n",
    "\n",
    "Here we instantiate the **PriorityFloodFlowRouter** and **BedrockLandslider**.."
   ]
  },
  {
   "cell_type": "code",
   "execution_count": 3,
   "id": "b94dec67",
   "metadata": {
    "tags": []
   },
   "outputs": [],
   "source": [
    "# Instantiate flow router\n",
    "fr = PriorityFloodFlowRouter(mg, flow_metric=\"D8\", suppress_out=True)\n",
    "\n",
    "# Instantiate SPACE model with chosen parameters\n",
    "sp = SpaceLargeScaleEroder(\n",
    "    mg,\n",
    "    K_sed=2.5e-5,\n",
    "    K_br=2.5e-5,\n",
    "    F_f=0.0,\n",
    "    phi=0.0,\n",
    "    H_star=1.0,\n",
    "    v_s=1,\n",
    "    m_sp=0.5,\n",
    "    n_sp=1.0,\n",
    "    sp_crit_sed=0,\n",
    "    sp_crit_br=0,\n",
    ")"
   ]
  },
  {
   "cell_type": "markdown",
   "id": "3c821ece",
   "metadata": {},
   "source": [
    "### Run SPACE to generate the initial semi-steady-state landscape\n",
    "We use/iterate the **SPACE** through a time loop to evolve the landscape to a steady state before adding landslide component."
   ]
  },
  {
   "cell_type": "code",
   "execution_count": null,
   "id": "162479aa",
   "metadata": {
    "tags": []
   },
   "outputs": [],
   "source": [
    "# Set model parameters\n",
    "timestep = 500       # timestep in years\n",
    "elapsed_time = 0.0   # Set elapsed time to zero\n",
    "count = 0            # Set timestep count to zero\n",
    "run_time = 500000    # Set model run time\n",
    "U = 0.02             # Uplift rate in m/yr\n",
    "sed_flux = np.zeros(int(run_time // timestep)) # Array to save sediment flux values\n",
    "\n",
    "cmap = copy.copy(mpl.colormaps[\"terrain\"])  # Define the color map for elevation\n",
    "\n",
    "while elapsed_time < run_time:  # time units of years\n",
    "    # Insert uplift at core nodes\n",
    "    mg.at_node[\"bedrock__elevation\"][mg.core_nodes] += U * timestep\n",
    "    mg.at_node[\"topographic__elevation\"][:] = (\n",
    "        mg.at_node[\"bedrock__elevation\"] + mg.at_node[\"soil__depth\"]\n",
    "    )\n",
    "\n",
    "    # Run the flow router\n",
    "    fr.run_one_step()\n",
    "\n",
    "    # Run SPACE for one time step\n",
    "    sp.run_one_step(dt=timestep)\n",
    "\n",
    "    # Add to value of elapsed time\n",
    "    elapsed_time += timestep\n",
    "\n",
    "    if np.mod(elapsed_time, 1e5) == 0:\n",
    "        print(\"%.2f of model run completed\" % (elapsed_time / run_time))"
   ]
  },
  {
   "cell_type": "markdown",
   "id": "7c822f64",
   "metadata": {},
   "source": [
    "##### Export pre-landslide initial landscape landlab grid object as a pickle file"
   ]
  },
  {
   "cell_type": "code",
   "execution_count": 5,
   "id": "a402e497",
   "metadata": {},
   "outputs": [],
   "source": [
    "# Exporting landlab grid object\n",
    "with open('pre-slide_fakelandscape.pickle', 'wb') as f:\n",
    "    pickle.dump(mg, f)"
   ]
  },
  {
   "cell_type": "code",
   "execution_count": 6,
   "id": "37e22902",
   "metadata": {},
   "outputs": [],
   "source": [
    "# If we want to import other pickle file of landlab grid object\n",
    "# with open('pre-slide_fakelandscape.pickle', 'rb') as g:\n",
    "#     mg = pickle.load(g)"
   ]
  },
  {
   "cell_type": "markdown",
   "id": "be679bb0",
   "metadata": {},
   "source": [
    "### Plotting drainage network, river profile, and other attributes"
   ]
  },
  {
   "cell_type": "markdown",
   "id": "1b0e28ce",
   "metadata": {},
   "source": [
    "##### Plot landscape, soildepth, and plane-view river network (Yuan Li)"
   ]
  },
  {
   "cell_type": "code",
   "execution_count": null,
   "id": "f4c312a5",
   "metadata": {
    "tags": []
   },
   "outputs": [],
   "source": [
    "# Derive river network using ChannelProfiler\n",
    "dx = node_spacing\n",
    "area_threshold = dx*dx*10.\n",
    "profiler = ChannelProfiler(mg, number_of_watersheds=1, minimum_channel_threshold=area_threshold, main_channel_only=False)\n",
    "profiler.run_one_step()\n",
    "\n",
    "\n",
    "####### Start plotting #######\n",
    "plt_landscape_evo(profiler,mg)"
   ]
  },
  {
   "cell_type": "markdown",
   "id": "16fe1c4f",
   "metadata": {},
   "source": [
    "#### Plot long-river profile and other info (Nilay)\n",
    "##### ***Inspired by Dr. Susannah Morey's unpublished works***"
   ]
  },
  {
   "cell_type": "code",
   "execution_count": null,
   "id": "8ff280fd",
   "metadata": {},
   "outputs": [],
   "source": [
    "profiler = ChannelProfiler(mg)\n",
    "profiler.run_one_step()\n",
    "riv_nodes = profiler.nodes\n",
    "\n",
    "mg.at_node[\"bedrock_elevation\"]=mg.at_node[\"topographic__elevation\"]-mg.at_node[\"soil__depth\"]\n",
    "dist_atNodes=profiler.distance_along_profile[0]\n",
    "\n",
    "el = mg.at_node[\"topographic__elevation\"][riv_nodes]\n",
    "sd = mg.at_node[\"soil__depth\"][riv_nodes]\n",
    "\n",
    "br = el-sd     # Use ravel() to flatten el and br to 1D\n",
    "el = el.ravel()\n",
    "sd = sd.ravel()\n",
    "br = br.ravel() # Calculate minimum elevation and relief\n",
    "\n",
    "min_elevation = min(np.min(el), np.min(br), 0)\n",
    "el_relief = el - min_elevation\n",
    "br_relief = br - min_elevation\n",
    "\n",
    "qs = mg.at_node[\"sediment__flux\"][riv_nodes]\n",
    "qs[np.where(qs<10)] = np.nanplt_fontsize =10     \n",
    "\n",
    "fig, ax1 = plt.subplots(figsize=(5,3.7), dpi=400)\n",
    "ax2 = ax1.twinx()\n",
    "\n",
    "dist = (max(dist_atNodes)-dist_atNodes)*1e-3 \n",
    "brown_c = [205/255,133/255,63/255] # Fill the entire area from max relief to 0\n",
    "\n",
    "ax1.fill_between(dist, np.max(el_relief), 0, color='lightgrey', label='total area') # Fill the bedrock and colluvial material relief\n",
    "ax1.fill_between(dist, br_relief, 0, color='grey', label='bedrock')\n",
    "ax1.fill_between(dist, el_relief, br_relief, color=brown_c, label='colluvial material') # Plot bedrock and topographic relief\n",
    "\n",
    "lns2 = ax1.plot(dist, br_relief, color='k', label='bedrock', linewidth=0.8, zorder=3)\n",
    "lns1 = ax1.plot(dist, el_relief, color='brown', label='topo', linewidth=1, zorder=4) # set up labels\n",
    "\n",
    "ax1.set_xlabel('Distance Along Profile, km', fontweight='normal', fontsize=10.0)\n",
    "ax1.tick_params(labelsize=10.0)\n",
    "ax1.set_ylabel('Relief, m', fontweight='normal', fontsize=10.0)\n",
    "ax1.set_ylim((0, np.max(el_relief)*1.1))\n",
    "\n",
    "\n",
    "# plot sediment thickness\n",
    "lns3 = ax2.plot(dist, sd, color='orange', label ='sediment', linewidth=0.8)\n",
    "\n",
    "ax2.set_ylabel('Sediment thickness, m', fontweight='normal', fontsize=10.0)\n",
    "ax2.set_ylim((0, np.nanmax(sd)*1.4))\n",
    "ax2.set_xlim((0, dist[2]))\n",
    "ax2.tick_params(labelsize=10.0) # Merge legends\n",
    "\n",
    "lns = lns1 + lns2 + lns3\n",
    "labs = [l.get_label() for l in lns]\n",
    "\n",
    "ax1.legend(lns, labs, fontsize=10.0) # Set y-axis to start from 0\n",
    "ax1.set_ylim(bottom=0)"
   ]
  },
  {
   "cell_type": "markdown",
   "id": "3a6f3530",
   "metadata": {},
   "source": [
    "<hr>"
   ]
  },
  {
   "cell_type": "markdown",
   "id": "012a2e7a",
   "metadata": {},
   "source": [
    "## STEP 2: **Hit the catastrophic landslide event to the landscape:**\n",
    "### Run the Hyland (Bedrocklandslider) to the steady-state landscape for 20 years:"
   ]
  },
  {
   "cell_type": "markdown",
   "id": "41ab1c07",
   "metadata": {},
   "source": [
    "Initialize the flow director and SPACE and BedrockLandslider components"
   ]
  },
  {
   "cell_type": "code",
   "execution_count": 9,
   "id": "36d705c5",
   "metadata": {},
   "outputs": [],
   "source": [
    "# Instantiate flow router, with additional multiple flow director for hillslopes\n",
    "fr = PriorityFloodFlowRouter(\n",
    "    mg,\n",
    "    flow_metric=\"D8\",\n",
    "    separate_hill_flow=True,\n",
    "    hill_flow_metric=\"Quinn\",\n",
    "    update_hill_flow_instantaneous=True,\n",
    ")\n",
    "\n",
    "# Instantiate SPACE model with chosen parameters\n",
    "hy = BedrockLandslider(\n",
    "    mg,\n",
    "    angle_int_frict=0.4,\n",
    "    cohesion_eff=1e3,\n",
    "    landslides_return_time=1000,\n",
    "    landslides_on_boundary_nodes=False,\n",
    ")"
   ]
  },
  {
   "cell_type": "markdown",
   "id": "62c4999c",
   "metadata": {},
   "source": [
    "Run the time loop over 20 years to develop a landscape with landslide activities"
   ]
  },
  {
   "cell_type": "code",
   "execution_count": 10,
   "id": "4b374d3d",
   "metadata": {
    "tags": []
   },
   "outputs": [],
   "source": [
    "# Reset elevation back to elevation simulated without landslides to test various landslide configuration settings\n",
    "# z_before_LS = np.array(mg[\"node\"][\"topographic__elevation\"])\n",
    "# mg[\"node\"][\"topographic__elevation\"][:] = z_before_LS\n",
    "\n",
    "timestep = 1  # years\n",
    "landslides_size_all_steps = []\n",
    "\n",
    "for i in range(20):\n",
    "    # Insert uplift at core nodes\n",
    "    mg.at_node[\"bedrock__elevation\"][mg.core_nodes] += U * timestep\n",
    "    mg.at_node[\"topographic__elevation\"][:] = (\n",
    "        mg.at_node[\"bedrock__elevation\"] + mg.at_node[\"soil__depth\"]\n",
    "    )\n",
    "\n",
    "    # Run the flow router\n",
    "    #fr.run_one_step()\n",
    "\n",
    "    # Run SPACE for one time step\n",
    "    #sp.run_one_step(dt=timestep)\n",
    "\n",
    "    # Run BedrockLandslider for one time step\n",
    "    hy.run_one_step(dt=timestep)\n",
    "\n",
    "    # Store landslide sizes of current time step into general ls_size list\n",
    "    landslides_size_all_steps = np.append(landslides_size_all_steps, hy.landslides_size)"
   ]
  },
  {
   "cell_type": "markdown",
   "id": "86c60d8a",
   "metadata": {},
   "source": [
    "Export post-landslide landscape landlab grid object as a pickle file"
   ]
  },
  {
   "cell_type": "code",
   "execution_count": 11,
   "id": "95ac425d",
   "metadata": {},
   "outputs": [],
   "source": [
    "# Exporting landlab grid object\n",
    "with open('post-slide_fakelandscape.pickle', 'wb') as f:\n",
    "    pickle.dump(mg, f)"
   ]
  },
  {
   "cell_type": "code",
   "execution_count": 12,
   "id": "073211cc",
   "metadata": {},
   "outputs": [],
   "source": [
    "# If we want to import other pickle file of landlab grid object\n",
    "# with open('post-slide_fakelandscape.pickle', 'rb') as g:\n",
    "#     mg = pickle.load(g)"
   ]
  },
  {
   "cell_type": "markdown",
   "id": "84318f2e",
   "metadata": {},
   "source": [
    "##### Plot post-landslide landscape, soildepth, and plane-view river network etc (Yuan Li)"
   ]
  },
  {
   "cell_type": "code",
   "execution_count": null,
   "id": "c06c33d3",
   "metadata": {},
   "outputs": [],
   "source": [
    "# Derive river network using ChannelProfiler\n",
    "dx = node_spacing\n",
    "area_threshold = dx*dx*10.\n",
    "profiler = ChannelProfiler(mg, number_of_watersheds=1, minimum_channel_threshold=area_threshold, main_channel_only=False)\n",
    "profiler.run_one_step()\n",
    "\n",
    "\n",
    "####### Start plotting #######\n",
    "plt_landscape_evo(profiler,mg)"
   ]
  },
  {
   "cell_type": "code",
   "execution_count": null,
   "id": "4173ed2c",
   "metadata": {},
   "outputs": [],
   "source": [
    "# Landslide Erosion\n",
    "cmap = copy.copy(mpl.colormaps[\"hot_r\"])\n",
    "imshow_grid(\n",
    "    mg,\n",
    "    np.sqrt(mg.at_node[\"landslide__erosion\"]),\n",
    "    colorbar_label=\"SQRT( Landslide erosion, m) \",\n",
    "    cmap=cmap,\n",
    ")\n",
    "plt.show()\n",
    "\n",
    "# Landslide Deposition\n",
    "cmap = copy.copy(mpl.colormaps[\"winter_r\"])\n",
    "imshow_grid(\n",
    "    mg,\n",
    "    np.sqrt(mg.at_node[\"landslide__deposition\"]),\n",
    "    colorbar_label=\"SQRT( Landslide deposition, m) \",\n",
    "    cmap=cmap,\n",
    ")\n",
    "plt.show()"
   ]
  },
  {
   "cell_type": "code",
   "execution_count": null,
   "id": "106bc541",
   "metadata": {},
   "outputs": [],
   "source": [
    "profiler.plot_profiles_in_map_view()"
   ]
  },
  {
   "cell_type": "markdown",
   "id": "5fce6df4",
   "metadata": {},
   "source": [
    "##### Plot river profile and other info for post-landslide landscape (Nilay)"
   ]
  },
  {
   "cell_type": "code",
   "execution_count": null,
   "id": "353c6b4b",
   "metadata": {},
   "outputs": [],
   "source": [
    "profiler = ChannelProfiler(mg)\n",
    "profiler.run_one_step()\n",
    "riv_nodes = profiler.nodes\n",
    "\n",
    "mg.at_node[\"bedrock_elevation\"]=mg.at_node[\"topographic__elevation\"]-mg.at_node[\"soil__depth\"]\n",
    "dist_atNodes=profiler.distance_along_profile[0]\n",
    "\n",
    "el = mg.at_node[\"topographic__elevation\"][riv_nodes]\n",
    "sd = mg.at_node[\"soil__depth\"][riv_nodes]\n",
    "\n",
    "br = el-sd     # Use ravel() to flatten el and br to 1D\n",
    "el = el.ravel()\n",
    "sd = sd.ravel()\n",
    "br = br.ravel() # Calculate minimum elevation and relief\n",
    "\n",
    "min_elevation = min(np.min(el), np.min(br), 0)\n",
    "el_relief = el - min_elevation\n",
    "br_relief = br - min_elevation\n",
    "\n",
    "qs = mg.at_node[\"sediment__flux\"][riv_nodes]\n",
    "qs[np.where(qs<10)] = np.nanplt_fontsize =10     \n",
    "\n",
    "fig, ax1 = plt.subplots(figsize=(5,3.7), dpi=400)\n",
    "ax2 = ax1.twinx()\n",
    "\n",
    "dist = (max(dist_atNodes)-dist_atNodes)*1e-3 \n",
    "brown_c = [205/255,133/255,63/255] # Fill the entire area from max relief to 0\n",
    "\n",
    "ax1.fill_between(dist, np.max(el_relief), 0, color='lightgrey', label='total area') # Fill the bedrock and colluvial material relief\n",
    "ax1.fill_between(dist, br_relief, 0, color='grey', label='bedrock')\n",
    "ax1.fill_between(dist, el_relief, br_relief, color=brown_c, label='colluvial material') # Plot bedrock and topographic relief\n",
    "\n",
    "lns2 = ax1.plot(dist, br_relief, color='k', label='bedrock', linewidth=0.8, zorder=3)\n",
    "lns1 = ax1.plot(dist, el_relief, color='brown', label='topo', linewidth=1, zorder=4) # set up labels\n",
    "\n",
    "ax1.set_xlabel('Distance Along Profile, km', fontweight='normal', fontsize=10.0)\n",
    "ax1.tick_params(labelsize=10.0)\n",
    "ax1.set_ylabel('Relief, m', fontweight='normal', fontsize=10.0)\n",
    "ax1.set_ylim((0, np.max(el_relief)*1.1))\n",
    "\n",
    "\n",
    "# plot sediment thickness\n",
    "lns3 = ax2.plot(dist, sd, color='orange', label ='sediment', linewidth=0.8)\n",
    "\n",
    "ax2.set_ylabel('Sediment thickness, m', fontweight='normal', fontsize=10.0)\n",
    "ax2.set_ylim((0, np.nanmax(sd)*1.4))\n",
    "ax2.set_xlim((0, dist[2]))\n",
    "ax2.tick_params(labelsize=10.0) # Merge legends\n",
    "\n",
    "lns = lns1 + lns2 + lns3\n",
    "labs = [l.get_label() for l in lns]\n",
    "\n",
    "ax1.legend(lns, labs, fontsize=10.0) # Set y-axis to start from 0\n",
    "ax1.set_ylim(bottom=0)"
   ]
  },
  {
   "cell_type": "code",
   "execution_count": null,
   "id": "197ca4b9",
   "metadata": {},
   "outputs": [],
   "source": [
    "# channel profiles with sediment   ------- NiLAY added this, longer code ---------\n",
    "dx = node_spacing\n",
    "area_threshold = dx*dx*10.\n",
    "\n",
    "profiler = ChannelProfiler(mg, number_of_watersheds=1, minimum_channel_threshold=area_threshold, main_channel_only=False)\n",
    "profiler.run_one_step()\n",
    "\n",
    "#plot channel profiles\n",
    "\n",
    "outlets = list(profiler.data_structure.keys()) #outlets from channel profiler\n",
    "for outlet in outlets: #cycle thru outlets\n",
    "    segments = list(profiler.data_structure[outlet].keys()) #segments for that watershed\n",
    "    #print(segments)\n",
    "    for i, segment in enumerate(segments): #cycle thru segments\n",
    "        ids = profiler.data_structure[outlet][segment]['ids'] #ids (index) of each segment\n",
    "        distance = profiler.data_structure[outlet][segment]['distances']#distance downstream of each segment node\n",
    "        eta = mg.at_node['topographic__elevation'][ids] #elevation of each segment node\n",
    "        plt.scatter(distance,eta,alpha=1) #plot profile\n",
    "        #plt.plot(distance,eta,color='green',alpha=1)   \n",
    "plt.show()"
   ]
  },
  {
   "cell_type": "code",
   "execution_count": null,
   "id": "49549643",
   "metadata": {},
   "outputs": [],
   "source": [
    "# VERY EASY WAY from methods/functions of the component:\n",
    "profiler.plot_profiles()"
   ]
  },
  {
   "cell_type": "code",
   "execution_count": null,
   "id": "9cca960a",
   "metadata": {},
   "outputs": [],
   "source": [
    "profiler.plot_profiles_in_map_view()"
   ]
  },
  {
   "cell_type": "markdown",
   "id": "666a30e3",
   "metadata": {},
   "source": [
    "##### Sediment flux at the basin outlet after the landslide (Nilay?)\n",
    "\n",
    "Here, we will visualize the sediment flux at the basin outlet and compare that to pre-landslide condition."
   ]
  },
  {
   "cell_type": "code",
   "execution_count": 20,
   "id": "27dfca29",
   "metadata": {
    "tags": []
   },
   "outputs": [],
   "source": [
    "# CODE"
   ]
  },
  {
   "cell_type": "markdown",
   "id": "076dec4b",
   "metadata": {},
   "source": [
    "<hr>"
   ]
  },
  {
   "cell_type": "markdown",
   "id": "fc594546",
   "metadata": {},
   "source": [
    "### STEP 3: See how landslide-derived sediments affect the evolution of downstream channels.\n",
    "We run `GravelBedrockEroder` to simulate this effect through time"
   ]
  },
  {
   "cell_type": "markdown",
   "id": "97c52323",
   "metadata": {},
   "source": [
    "### Run GravelBedrockEroder (Need John's contribution)\n",
    "Setup timestep, backgroup uplift rate, and flow routing. etc. and RUN"
   ]
  },
  {
   "cell_type": "code",
   "execution_count": null,
   "id": "84031d48",
   "metadata": {},
   "outputs": [],
   "source": [
    "elev = mg.at_node[\"topographic__elevation\"]\n",
    "\n",
    "fa = FlowAccumulator(mg, runoff_rate=10.0)\n",
    "fa.run_one_step()\n",
    "eroder = GravelBedrockEroder(mg, abrasion_coefficient=0.0005,\n",
    "                            coarse_fraction_from_plucking=0.1)\n",
    "rock_elev = mg.at_node[\"bedrock__elevation\"]\n",
    "elev = mg.at_node[\"topographic__elevation\"]\n",
    "#years_forward = mg.add_zeros[\"years_in_future\", at = \"node\"]\n",
    "for i in range(20):\n",
    "     rock_elev[mg.core_nodes] += 1e-2\n",
    "     elev[mg.core_nodes] += 1e-2\n",
    "     fa.run_one_step()\n",
    "     chan_width = eroder.calc_implied_width(),\n",
    "     eroder.calc_sediment_rate_of_change(),\n",
    "     eroder.run_one_step(1.0)"
   ]
  },
  {
   "cell_type": "code",
   "execution_count": null,
   "id": "8ca19282",
   "metadata": {},
   "outputs": [],
   "source": [
    "imshow_grid(mg, elev, cmap = \"terrain\")"
   ]
  },
  {
   "cell_type": "code",
   "execution_count": null,
   "id": "a6bb9c7a",
   "metadata": {},
   "outputs": [],
   "source": [
    "imshow_grid(mg, \"soil__depth\", cmap = \"copper\")"
   ]
  },
  {
   "cell_type": "code",
   "execution_count": null,
   "id": "62ee1943",
   "metadata": {},
   "outputs": [],
   "source": [
    "imshow_grid(mg, \"sediment__flux\", cmap = \"cool\")"
   ]
  },
  {
   "cell_type": "code",
   "execution_count": null,
   "id": "09123aa9",
   "metadata": {},
   "outputs": [],
   "source": [
    "imshow_grid(mg, chan_width,\n",
    "            plot_name = \"Channel Width\", \n",
    "            cmap = \"terrain\")"
   ]
  },
  {
   "cell_type": "code",
   "execution_count": null,
   "id": "428e3893",
   "metadata": {},
   "outputs": [],
   "source": [
    "imshow_grid(mg, \"sediment__rate_of_change\",\n",
    "            plot_name = \"Delta Sed Thick\", \n",
    "            cmap = \"spring\")"
   ]
  },
  {
   "cell_type": "markdown",
   "id": "9f723a1a",
   "metadata": {},
   "source": [
    "##### Plot post-Gravel Bedrock erosion landscape, soildepth, and plane-view river network etc (Yuan Li)"
   ]
  },
  {
   "cell_type": "code",
   "execution_count": null,
   "id": "0d4c440f",
   "metadata": {},
   "outputs": [],
   "source": [
    "# Derive river network using ChannelProfiler\n",
    "dx = node_spacing\n",
    "area_threshold = dx*dx*10.\n",
    "profiler = ChannelProfiler(mg, number_of_watersheds=1, minimum_channel_threshold=area_threshold, main_channel_only=False)\n",
    "profiler.run_one_step()\n",
    "\n",
    "\n",
    "####### Start plotting #######\n",
    "plt_landscape_evo(profiler,mg)"
   ]
  },
  {
   "cell_type": "markdown",
   "id": "f0fcd898",
   "metadata": {},
   "source": [
    "##### Plot river profile and other info for post-landslide landscape (Nilay)"
   ]
  },
  {
   "cell_type": "code",
   "execution_count": null,
   "id": "387022d1",
   "metadata": {},
   "outputs": [],
   "source": [
    "profiler = ChannelProfiler(mg)\n",
    "profiler.run_one_step()\n",
    "riv_nodes = profiler.nodes\n",
    "\n",
    "mg.at_node[\"bedrock_elevation\"]=mg.at_node[\"topographic__elevation\"]-mg.at_node[\"soil__depth\"]\n",
    "dist_atNodes=profiler.distance_along_profile[0]\n",
    "\n",
    "el = mg.at_node[\"topographic__elevation\"][riv_nodes]\n",
    "sd = mg.at_node[\"soil__depth\"][riv_nodes]\n",
    "\n",
    "br = el-sd     # Use ravel() to flatten el and br to 1D\n",
    "el = el.ravel()\n",
    "sd = sd.ravel()\n",
    "br = br.ravel() # Calculate minimum elevation and relief\n",
    "\n",
    "min_elevation = min(np.min(el), np.min(br), 0)\n",
    "el_relief = el - min_elevation\n",
    "br_relief = br - min_elevation\n",
    "\n",
    "qs = mg.at_node[\"sediment__flux\"][riv_nodes]\n",
    "qs[np.where(qs<10)] = np.nanplt_fontsize =10     \n",
    "\n",
    "fig, ax1 = plt.subplots(figsize=(5,3.7), dpi=400)\n",
    "ax2 = ax1.twinx()\n",
    "\n",
    "dist = (max(dist_atNodes)-dist_atNodes)*1e-3\n",
    "brown_c = [205/255,133/255,63/255] # Fill the entire area from max relief to 0\n",
    "\n",
    "ax1.fill_between(dist, np.max(el_relief), 0, color='lightgrey', label='total area') # Fill the bedrock and colluvial material relief\n",
    "ax1.fill_between(dist, br_relief, 0, color='grey', label='bedrock')\n",
    "ax1.fill_between(dist, el_relief, br_relief, color=brown_c, label='colluvial material') # Plot bedrock and topographic relief\n",
    "\n",
    "lns2 = ax1.plot(dist, br_relief, color='k', label='bedrock', linewidth=0.8, zorder=3)\n",
    "lns1 = ax1.plot(dist, el_relief, color='brown', label='topo', linewidth=1, zorder=4) # set up labels\n",
    "\n",
    "ax1.set_xlabel('Distance Along Profile, km', fontweight='normal', fontsize=10.0)\n",
    "ax1.tick_params(labelsize=10.0)\n",
    "ax1.set_ylabel('Relief, m', fontweight='normal', fontsize=10.0)\n",
    "ax1.set_ylim((0, np.max(el_relief)*1.1))\n",
    "\n",
    "\n",
    "# plot sediment thickness\n",
    "lns3 = ax2.plot(dist, sd, color='orange', label ='sediment', linewidth=0.8)\n",
    "\n",
    "ax2.set_ylabel('Sediment thickness, m', fontweight='normal', fontsize=10.0)\n",
    "ax2.set_ylim((0, np.nanmax(sd)*1.4))\n",
    "ax2.set_xlim((0, dist[2]))\n",
    "ax2.tick_params(labelsize=10.0) # Merge legends\n",
    "\n",
    "lns = lns1 + lns2 + lns3\n",
    "labs = [l.get_label() for l in lns]\n",
    "\n",
    "ax1.legend(lns, labs, fontsize=10.0) # Set y-axis to start from 0\n",
    "ax1.set_ylim(bottom=0)"
   ]
  },
  {
   "cell_type": "markdown",
   "id": "6c65fdfe",
   "metadata": {},
   "source": [
    "<hr>"
   ]
  },
  {
   "cell_type": "markdown",
   "id": "422dd65c",
   "metadata": {},
   "source": [
    "# Summary\n",
    "\n",
    "### This notebook evaluates the impact of sediment pulses on gravel-bed river network evolution.\n",
    "\n",
    "ESPIn 2024\n",
    "More here..."
   ]
  }
 ],
 "metadata": {
  "kernelspec": {
   "display_name": "Ivy",
   "language": "python",
   "name": "ivy"
  },
  "language_info": {
   "codemirror_mode": {
    "name": "ipython",
    "version": 3
   },
   "file_extension": ".py",
   "mimetype": "text/x-python",
   "name": "python",
   "nbconvert_exporter": "python",
   "pygments_lexer": "ipython3",
   "version": "3.11.9"
  }
 },
 "nbformat": 4,
 "nbformat_minor": 5
}
