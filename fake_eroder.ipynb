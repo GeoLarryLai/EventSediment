{
 "cells": [
  {
   "cell_type": "code",
   "execution_count": 1,
   "id": "458ad99b-56df-4831-82cb-17bf0238149b",
   "metadata": {},
   "outputs": [],
   "source": [
    "from landlab import RasterModelGrid\n",
    "from landlab.components import FlowAccumulator, GravelBedrockEroder\n",
    "from landlab import RasterModelGrid, imshow_grid\n",
    "import numpy as np \n"
   ]
  },
  {
   "cell_type": "code",
   "execution_count": 6,
   "id": "2d1717ac-18db-4904-8335-50c3edec2332",
   "metadata": {},
   "outputs": [],
   "source": [
    "import copy\n",
    "\n",
    "import matplotlib as mpl\n",
    "import matplotlib.pyplot as plt  # For plotting results; optional\n",
    "import numpy as np\n",
    "\n",
    "from landlab import RasterModelGrid  # Grid utility\n",
    "from landlab import imshow_grid, imshowhs_grid  # For plotting results; optional\n",
    "from landlab.components import BedrockLandslider  # BedrockLandslider model\n",
    "from landlab.components import SpaceLargeScaleEroder  # SPACE model\n",
    "from landlab.components import PriorityFloodFlowRouter"
   ]
  },
  {
   "cell_type": "code",
   "execution_count": 2,
   "id": "54f0a04b-6053-4663-b26b-192ef25a22d8",
   "metadata": {},
   "outputs": [],
   "source": [
    "# Model set up\n",
    "\n",
    "## Create the grid\n",
    "grid = RasterModelGrid((20, 20), xy_spacing=100.0)\n",
    "\n",
    "## Add in elevation placeholders\n",
    "elev = grid.add_zeros(\"topographic__elevation\", at=\"node\")\n",
    "sed = grid.add_zeros(\"soil__depth\", at=\"node\")\n",
    "\n",
    "## Place a big chunk of sediment to erode \n",
    "sed[4] = 300.0\n",
    "\n",
    "## Set the boundry conditions \n",
    "grid.status_at_node[grid.perimeter_nodes] = grid.BC_NODE_IS_CLOSED\n",
    "grid.status_at_node[5] = grid.BC_NODE_IS_FIXED_VALUE # Open watershed outlet"
   ]
  },
  {
   "cell_type": "code",
   "execution_count": null,
   "id": "33ad4fa8-fc2b-46dd-972c-e204bb8c2078",
   "metadata": {},
   "outputs": [],
   "source": []
  },
  {
   "cell_type": "code",
   "execution_count": null,
   "id": "eba8d697-8b2d-4211-98bc-6f92b0dce278",
   "metadata": {},
   "outputs": [],
   "source": []
  }
 ],
 "metadata": {
  "kernelspec": {
   "display_name": "Ivy",
   "language": "python",
   "name": "ivy"
  },
  "language_info": {
   "codemirror_mode": {
    "name": "ipython",
    "version": 3
   },
   "file_extension": ".py",
   "mimetype": "text/x-python",
   "name": "python",
   "nbconvert_exporter": "python",
   "pygments_lexer": "ipython3",
   "version": "3.11.9"
  }
 },
 "nbformat": 4,
 "nbformat_minor": 5
}
